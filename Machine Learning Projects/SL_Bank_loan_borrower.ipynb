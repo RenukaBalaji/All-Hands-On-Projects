{
  "cells": [
    {
      "cell_type": "markdown",
      "id": "01b6eb40",
      "metadata": {
        "id": "01b6eb40"
      },
      "source": [
        "**Supervised Learning**"
      ]
    },
    {
      "cell_type": "markdown",
      "source": [
        "**A bank X is on a massive digital transformation for all its departments. Bank has a growing customer base whee majority of them are liability customers (depositors) vs borrowers (asset customers). The bank is interested in expanding the borrowers base rapidly to bring in more business via loan interests. A campaign that the bank ran in last quarter showed an average single digit conversion rate. Digital transformation being the core strength of the business strategy, marketing department wants to devise effective campaigns with better target marketing to increase the conversion ratio to double digit with same budget as per last campaign.**"
      ],
      "metadata": {
        "id": "8GwrH6FNKuWX"
      },
      "id": "8GwrH6FNKuWX"
    },
    {
      "cell_type": "markdown",
      "id": "359b9b56",
      "metadata": {
        "id": "359b9b56"
      },
      "source": [
        "**Importing all Libraries**"
      ]
    },
    {
      "cell_type": "code",
      "source": [
        "#from google.colab import drive\n",
        "#drive.mount('/content/drive')"
      ],
      "metadata": {
        "colab": {
          "base_uri": "https://localhost:8080/"
        },
        "id": "CDcYT59_H318",
        "outputId": "830904d4-d3f4-4223-c14e-c4b15a3cb2c2"
      },
      "id": "CDcYT59_H318",
      "execution_count": 4,
      "outputs": [
        {
          "output_type": "stream",
          "name": "stdout",
          "text": [
            "Mounted at /content/drive\n"
          ]
        }
      ]
    },
    {
      "cell_type": "code",
      "execution_count": 5,
      "id": "4689bbe6",
      "metadata": {
        "id": "4689bbe6"
      },
      "outputs": [],
      "source": [
        "import pandas as pd\n",
        "import numpy as np\n",
        "import seaborn as sns\n",
        "import matplotlib.pyplot as plt\n",
        "from sklearn.preprocessing import LabelEncoder\n",
        "from scipy import stats\n",
        "%matplotlib inline\n",
        "import warnings\n",
        "warnings.filterwarnings(\"ignore\")"
      ]
    },
    {
      "cell_type": "markdown",
      "id": "8bfe7360",
      "metadata": {
        "id": "8bfe7360"
      },
      "source": [
        "**1. Data Understanding and Preparation**"
      ]
    },
    {
      "cell_type": "markdown",
      "id": "956469d5",
      "metadata": {
        "id": "956469d5"
      },
      "source": [
        "A. Read both the Datasets ‘Data1’ and ‘Data 2’ as DataFrame and store them into two separate variables."
      ]
    },
    {
      "cell_type": "code",
      "execution_count": 7,
      "id": "99d0acf1",
      "metadata": {
        "id": "99d0acf1"
      },
      "outputs": [],
      "source": [
        "Data1 = pd.read_csv('/content/drive/MyDrive/Part2_Data1.csv')\n",
        "Data2 = pd.read_csv('/content/drive/MyDrive/Part2_Data2.csv')"
      ]
    },
    {
      "cell_type": "markdown",
      "id": "c1f65ec0",
      "metadata": {
        "id": "c1f65ec0"
      },
      "source": [
        "B. Print shape and Column Names and DataTypes of both the Dataframes."
      ]
    },
    {
      "cell_type": "code",
      "execution_count": 8,
      "id": "d4b3120b",
      "metadata": {
        "colab": {
          "base_uri": "https://localhost:8080/"
        },
        "id": "d4b3120b",
        "outputId": "527b17cb-e4b4-4314-9286-b16a91a2907e"
      },
      "outputs": [
        {
          "output_type": "execute_result",
          "data": {
            "text/plain": [
              "(5000, 8)"
            ]
          },
          "metadata": {},
          "execution_count": 8
        }
      ],
      "source": [
        "Data1.shape"
      ]
    },
    {
      "cell_type": "code",
      "execution_count": 9,
      "id": "5f302b4f",
      "metadata": {
        "colab": {
          "base_uri": "https://localhost:8080/"
        },
        "id": "5f302b4f",
        "outputId": "b58783d9-8832-40a7-ec3c-f309998015d8"
      },
      "outputs": [
        {
          "output_type": "execute_result",
          "data": {
            "text/plain": [
              "(5000, 7)"
            ]
          },
          "metadata": {},
          "execution_count": 9
        }
      ],
      "source": [
        "Data2.shape"
      ]
    },
    {
      "cell_type": "markdown",
      "id": "dc74134a",
      "metadata": {
        "id": "dc74134a"
      },
      "source": [
        "Both the data frames have 5000 rows but Data1 has 8 columns when compared to Data2 which indicates that there is no target variable in Data2"
      ]
    },
    {
      "cell_type": "markdown",
      "id": "5f03671c",
      "metadata": {
        "id": "5f03671c"
      },
      "source": [
        "C. Merge both the Dataframes on ‘ID’ feature to form a single DataFrame"
      ]
    },
    {
      "cell_type": "code",
      "execution_count": 10,
      "id": "bbad2436",
      "metadata": {
        "id": "bbad2436"
      },
      "outputs": [],
      "source": [
        "new_data=Data1.merge(Data2,left_on='ID',right_on='ID')"
      ]
    },
    {
      "cell_type": "code",
      "execution_count": 11,
      "id": "99d81f50",
      "metadata": {
        "colab": {
          "base_uri": "https://localhost:8080/"
        },
        "id": "99d81f50",
        "outputId": "326d2320-2ff8-4344-cf9b-941eaf33100a"
      },
      "outputs": [
        {
          "output_type": "execute_result",
          "data": {
            "text/plain": [
              "(5000, 14)"
            ]
          },
          "metadata": {},
          "execution_count": 11
        }
      ],
      "source": [
        "new_data.shape"
      ]
    },
    {
      "cell_type": "markdown",
      "id": "3c628392",
      "metadata": {
        "id": "3c628392"
      },
      "source": [
        "Final Dataframe has 14 columns and 5000 rows"
      ]
    },
    {
      "cell_type": "markdown",
      "id": "28eacb68",
      "metadata": {
        "id": "28eacb68"
      },
      "source": [
        "D. Change Datatype of below features to ‘Object’\n",
        "\n",
        "‘CreditCard’, ‘InternetBanking’, ‘FixedDepositAccount’, ‘Security’, ‘Level’, ‘HiddenScore’."
      ]
    },
    {
      "cell_type": "code",
      "execution_count": 12,
      "id": "ea4dc0f6",
      "metadata": {
        "id": "ea4dc0f6"
      },
      "outputs": [],
      "source": [
        "col=['HiddenScore','Level','Security','FixedDepositAccount', 'InternetBanking', 'CreditCard','LoanOnCard']\n",
        "for i in col:\n",
        "    new_data[i]=new_data[i].astype('category')"
      ]
    },
    {
      "cell_type": "code",
      "execution_count": 13,
      "id": "a24c3d7f",
      "metadata": {
        "colab": {
          "base_uri": "https://localhost:8080/"
        },
        "id": "a24c3d7f",
        "outputId": "2955c369-4cc2-4bff-c7f2-a0bc5b338e09"
      },
      "outputs": [
        {
          "output_type": "execute_result",
          "data": {
            "text/plain": [
              "ID                        int64\n",
              "Age                       int64\n",
              "CustomerSince             int64\n",
              "HighestSpend              int64\n",
              "ZipCode                   int64\n",
              "HiddenScore            category\n",
              "MonthlyAverageSpend     float64\n",
              "Level                  category\n",
              "Mortgage                  int64\n",
              "Security               category\n",
              "FixedDepositAccount    category\n",
              "InternetBanking        category\n",
              "CreditCard             category\n",
              "LoanOnCard             category\n",
              "dtype: object"
            ]
          },
          "metadata": {},
          "execution_count": 13
        }
      ],
      "source": [
        "new_data.dtypes"
      ]
    },
    {
      "cell_type": "markdown",
      "id": "e40cb1c1",
      "metadata": {
        "id": "e40cb1c1"
      },
      "source": [
        "We can see that the dataype has been changed as category for few variables"
      ]
    },
    {
      "cell_type": "markdown",
      "id": "cc37edfb",
      "metadata": {
        "id": "cc37edfb"
      },
      "source": [
        "**2. Data Exploration and Analysis:**"
      ]
    },
    {
      "cell_type": "markdown",
      "id": "fc29835f",
      "metadata": {
        "id": "fc29835f"
      },
      "source": [
        "A. Visualize distribution of Target variable ‘LoanOnCard’ and clearly share insights."
      ]
    },
    {
      "cell_type": "code",
      "execution_count": 14,
      "id": "6deeb92d",
      "metadata": {
        "colab": {
          "base_uri": "https://localhost:8080/",
          "height": 475
        },
        "id": "6deeb92d",
        "outputId": "4e1c1711-a987-4e72-d85f-97d6bceded4b"
      },
      "outputs": [
        {
          "output_type": "execute_result",
          "data": {
            "text/plain": [
              "<Axes: xlabel='LoanOnCard'>"
            ]
          },
          "metadata": {},
          "execution_count": 14
        },
        {
          "output_type": "display_data",
          "data": {
            "text/plain": [
              "<Figure size 640x480 with 1 Axes>"
            ],
            "image/png": "[encoded data removed]"
          },
          "metadata": {}
        }
      ],
      "source": [
        "pd.value_counts(new_data[\"LoanOnCard\"]).plot(kind=\"bar\")"
      ]
    },
    {
      "cell_type": "markdown",
      "id": "403d0433",
      "metadata": {
        "id": "403d0433"
      },
      "source": [
        "We infer that the data is imbalanced as 90% of people does not have loan on credit card"
      ]
    },
    {
      "cell_type": "markdown",
      "id": "c0ebc857",
      "metadata": {
        "id": "c0ebc857"
      },
      "source": [
        "B. Check the percentage of missing values and impute if required"
      ]
    },
    {
      "cell_type": "code",
      "execution_count": 15,
      "id": "6723ecb8",
      "metadata": {
        "colab": {
          "base_uri": "https://localhost:8080/"
        },
        "id": "6723ecb8",
        "outputId": "d1cb3531-5a2f-4520-ac27-6a03b95fe949"
      },
      "outputs": [
        {
          "output_type": "execute_result",
          "data": {
            "text/plain": [
              "ID                      0\n",
              "Age                     0\n",
              "CustomerSince           0\n",
              "HighestSpend            0\n",
              "ZipCode                 0\n",
              "HiddenScore             0\n",
              "MonthlyAverageSpend     0\n",
              "Level                   0\n",
              "Mortgage                0\n",
              "Security                0\n",
              "FixedDepositAccount     0\n",
              "InternetBanking         0\n",
              "CreditCard              0\n",
              "LoanOnCard             20\n",
              "dtype: int64"
            ]
          },
          "metadata": {},
          "execution_count": 15
        }
      ],
      "source": [
        "new_data.isnull().sum()"
      ]
    },
    {
      "cell_type": "markdown",
      "id": "d04ff962",
      "metadata": {
        "id": "d04ff962"
      },
      "source": [
        "As there are very less missing values in the dataset, we will drop those records."
      ]
    },
    {
      "cell_type": "code",
      "execution_count": 16,
      "id": "d2ac46e3",
      "metadata": {
        "id": "d2ac46e3"
      },
      "outputs": [],
      "source": [
        "new_data.dropna(axis=0,inplace=True)"
      ]
    },
    {
      "cell_type": "code",
      "execution_count": 17,
      "id": "5092a80d",
      "metadata": {
        "colab": {
          "base_uri": "https://localhost:8080/"
        },
        "id": "5092a80d",
        "outputId": "efeee8d9-4e5a-4e72-b90d-49a506a1709e"
      },
      "outputs": [
        {
          "output_type": "execute_result",
          "data": {
            "text/plain": [
              "ID                     0\n",
              "Age                    0\n",
              "CustomerSince          0\n",
              "HighestSpend           0\n",
              "ZipCode                0\n",
              "HiddenScore            0\n",
              "MonthlyAverageSpend    0\n",
              "Level                  0\n",
              "Mortgage               0\n",
              "Security               0\n",
              "FixedDepositAccount    0\n",
              "InternetBanking        0\n",
              "CreditCard             0\n",
              "LoanOnCard             0\n",
              "dtype: int64"
            ]
          },
          "metadata": {},
          "execution_count": 17
        }
      ],
      "source": [
        "new_data.isnull().sum()"
      ]
    },
    {
      "cell_type": "code",
      "execution_count": 18,
      "id": "a406672e",
      "metadata": {
        "colab": {
          "base_uri": "https://localhost:8080/"
        },
        "id": "a406672e",
        "outputId": "d2836c51-31a6-4b50-9979-5c01e65a3d3e"
      },
      "outputs": [
        {
          "output_type": "execute_result",
          "data": {
            "text/plain": [
              "(4980, 14)"
            ]
          },
          "metadata": {},
          "execution_count": 18
        }
      ],
      "source": [
        "new_data.shape"
      ]
    },
    {
      "cell_type": "markdown",
      "id": "89ffae54",
      "metadata": {
        "id": "89ffae54"
      },
      "source": [
        "All the missing records are dropped"
      ]
    },
    {
      "cell_type": "markdown",
      "id": "d0372130",
      "metadata": {
        "id": "d0372130"
      },
      "source": [
        "C. Check for unexpected values in each categorical variable and impute with best suitable value."
      ]
    },
    {
      "cell_type": "code",
      "execution_count": 19,
      "id": "786403ad",
      "metadata": {
        "colab": {
          "base_uri": "https://localhost:8080/"
        },
        "id": "786403ad",
        "outputId": "1984b1d6-777f-4aeb-d801-39417be2a16f"
      },
      "outputs": [
        {
          "output_type": "stream",
          "name": "stdout",
          "text": [
            "Printing unique values in each column:\n",
            "\n",
            "HiddenScore :\n",
            "---------------------------------------\n",
            "HiddenScore\n",
            "1    1466\n",
            "2    1293\n",
            "4    1215\n",
            "3    1006\n",
            "Name: count, dtype: int64\n",
            "\n",
            "Level :\n",
            "---------------------------------------\n",
            "Level\n",
            "1    2089\n",
            "3    1496\n",
            "2    1395\n",
            "Name: count, dtype: int64\n",
            "\n",
            "Mortgage :\n",
            "---------------------------------------\n",
            "Mortgage\n",
            "0      3447\n",
            "98       17\n",
            "103      16\n",
            "89       16\n",
            "119      16\n",
            "       ... \n",
            "547       1\n",
            "458       1\n",
            "505       1\n",
            "361       1\n",
            "541       1\n",
            "Name: count, Length: 347, dtype: int64\n",
            "\n",
            "Security :\n",
            "---------------------------------------\n",
            "Security\n",
            "0    4460\n",
            "1     520\n",
            "Name: count, dtype: int64\n",
            "\n",
            "FixedDepositAccount :\n",
            "---------------------------------------\n",
            "FixedDepositAccount\n",
            "0    4678\n",
            "1     302\n",
            "Name: count, dtype: int64\n",
            "\n",
            "InternetBanking :\n",
            "---------------------------------------\n",
            "InternetBanking\n",
            "1    2974\n",
            "0    2006\n",
            "Name: count, dtype: int64\n",
            "\n",
            "CreditCard :\n",
            "---------------------------------------\n",
            "CreditCard\n",
            "0    3514\n",
            "1    1466\n",
            "Name: count, dtype: int64\n",
            "\n",
            "LoanOnCard :\n",
            "---------------------------------------\n",
            "LoanOnCard\n",
            "0.0    4500\n",
            "1.0     480\n",
            "Name: count, dtype: int64\n",
            "\n"
          ]
        }
      ],
      "source": [
        "print(\"Printing unique values in each column:\")\n",
        "print('')\n",
        "for col_name in new_data.columns:\n",
        "    if(col_name!='ID' and col_name!='Age' and col_name!='CustomerSince'and col_name!='HighestSpend' and col_name!='MonthlyAverageSpend'\n",
        "          and col_name!='ZipCode'):\n",
        "        print(col_name, \":\")\n",
        "        print('---------------------------------------')\n",
        "        print(new_data[col_name].value_counts())\n",
        "        print('')"
      ]
    },
    {
      "cell_type": "markdown",
      "id": "b165df21",
      "metadata": {
        "id": "b165df21"
      },
      "source": [
        "From above output, we see that there are no unexpected values present in the categorical variables."
      ]
    },
    {
      "cell_type": "markdown",
      "id": "6d2c10c9",
      "metadata": {
        "id": "6d2c10c9"
      },
      "source": [
        "Dropping few Independent variables as they don't influence the target variable"
      ]
    },
    {
      "cell_type": "code",
      "execution_count": 20,
      "id": "d11f1e53",
      "metadata": {
        "id": "d11f1e53"
      },
      "outputs": [],
      "source": [
        "new_data.drop(['ID','Age','CustomerSince','ZipCode'],axis=1,inplace=True)"
      ]
    },
    {
      "cell_type": "code",
      "execution_count": 21,
      "id": "e5780057",
      "metadata": {
        "colab": {
          "base_uri": "https://localhost:8080/",
          "height": 206
        },
        "id": "e5780057",
        "outputId": "56109305-4168-4481-ecf1-7bab88b8409f"
      },
      "outputs": [
        {
          "output_type": "execute_result",
          "data": {
            "text/plain": [
              "    HighestSpend HiddenScore  MonthlyAverageSpend Level  Mortgage Security  \\\n",
              "9            180           1                  8.9     3         0        0   \n",
              "10           105           4                  2.4     3         0        0   \n",
              "11            45           3                  0.1     2         0        0   \n",
              "12           114           2                  3.8     3         0        1   \n",
              "13            40           4                  2.5     2         0        0   \n",
              "\n",
              "   FixedDepositAccount InternetBanking CreditCard LoanOnCard  \n",
              "9                    0               0          0        1.0  \n",
              "10                   0               0          0        0.0  \n",
              "11                   0               1          0        0.0  \n",
              "12                   0               0          0        0.0  \n",
              "13                   0               1          0        0.0  "
            ],
            "text/html": [
              "\n",
              "  <div id=\"df-177a718c-2ce9-4651-900a-85795bfd6179\" class=\"colab-df-container\">\n",
              "    <div>\n",
              "<style scoped>\n",
              "    .dataframe tbody tr th:only-of-type {\n",
              "        vertical-align: middle;\n",
              "    }\n",
              "\n",
              "    .dataframe tbody tr th {\n",
              "        vertical-align: top;\n",
              "    }\n",
              "\n",
              "    .dataframe thead th {\n",
              "        text-align: right;\n",
              "    }\n",
              "</style>\n",
              "<table border=\"1\" class=\"dataframe\">\n",
              "  <thead>\n",
              "    <tr style=\"text-align: right;\">\n",
              "      <th></th>\n",
              "      <th>HighestSpend</th>\n",
              "      <th>HiddenScore</th>\n",
              "      <th>MonthlyAverageSpend</th>\n",
              "      <th>Level</th>\n",
              "      <th>Mortgage</th>\n",
              "      <th>Security</th>\n",
              "      <th>FixedDepositAccount</th>\n",
              "      <th>InternetBanking</th>\n",
              "      <th>CreditCard</th>\n",
              "      <th>LoanOnCard</th>\n",
              "    </tr>\n",
              "  </thead>\n",
              "  <tbody>\n",
              "    <tr>\n",
              "      <th>9</th>\n",
              "      <td>180</td>\n",
              "      <td>1</td>\n",
              "      <td>8.9</td>\n",
              "      <td>3</td>\n",
              "      <td>0</td>\n",
              "      <td>0</td>\n",
              "      <td>0</td>\n",
              "      <td>0</td>\n",
              "      <td>0</td>\n",
              "      <td>1.0</td>\n",
              "    </tr>\n",
              "    <tr>\n",
              "      <th>10</th>\n",
              "      <td>105</td>\n",
              "      <td>4</td>\n",
              "      <td>2.4</td>\n",
              "      <td>3</td>\n",
              "      <td>0</td>\n",
              "      <td>0</td>\n",
              "      <td>0</td>\n",
              "      <td>0</td>\n",
              "      <td>0</td>\n",
              "      <td>0.0</td>\n",
              "    </tr>\n",
              "    <tr>\n",
              "      <th>11</th>\n",
              "      <td>45</td>\n",
              "      <td>3</td>\n",
              "      <td>0.1</td>\n",
              "      <td>2</td>\n",
              "      <td>0</td>\n",
              "      <td>0</td>\n",
              "      <td>0</td>\n",
              "      <td>1</td>\n",
              "      <td>0</td>\n",
              "      <td>0.0</td>\n",
              "    </tr>\n",
              "    <tr>\n",
              "      <th>12</th>\n",
              "      <td>114</td>\n",
              "      <td>2</td>\n",
              "      <td>3.8</td>\n",
              "      <td>3</td>\n",
              "      <td>0</td>\n",
              "      <td>1</td>\n",
              "      <td>0</td>\n",
              "      <td>0</td>\n",
              "      <td>0</td>\n",
              "      <td>0.0</td>\n",
              "    </tr>\n",
              "    <tr>\n",
              "      <th>13</th>\n",
              "      <td>40</td>\n",
              "      <td>4</td>\n",
              "      <td>2.5</td>\n",
              "      <td>2</td>\n",
              "      <td>0</td>\n",
              "      <td>0</td>\n",
              "      <td>0</td>\n",
              "      <td>1</td>\n",
              "      <td>0</td>\n",
              "      <td>0.0</td>\n",
              "    </tr>\n",
              "  </tbody>\n",
              "</table>\n",
              "</div>\n",
              "    <div class=\"colab-df-buttons\">\n",
              "\n",
              "  <div class=\"colab-df-container\">\n",
              "    <button class=\"colab-df-convert\" onclick=\"convertToInteractive('df-177a718c-2ce9-4651-900a-85795bfd6179')\"\n",
              "            title=\"Convert this dataframe to an interactive table.\"\n",
              "            style=\"display:none;\">\n",
              "\n",
              "  <svg xmlns=\"http://www.w3.org/2000/svg\" height=\"24px\" viewBox=\"0 -960 960 960\">\n",
              "    <path d=\"M120-120v-720h720v720H120Zm60-500h600v-160H180v160Zm220 220h160v-160H400v160Zm0 220h160v-160H400v160ZM180-400h160v-160H180v160Zm440 0h160v-160H620v160ZM180-180h160v-160H180v160Zm440 0h160v-160H620v160Z\"/>\n",
              "  </svg>\n",
              "    </button>\n",
              "\n",
              "  <style>\n",
              "    .colab-df-container {\n",
              "      display:flex;\n",
              "      gap: 12px;\n",
              "    }\n",
              "\n",
              "    .colab-df-convert {\n",
              "      background-color: #E8F0FE;\n",
              "      border: none;\n",
              "      border-radius: 50%;\n",
              "      cursor: pointer;\n",
              "      display: none;\n",
              "      fill: #1967D2;\n",
              "      height: 32px;\n",
              "      padding: 0 0 0 0;\n",
              "      width: 32px;\n",
              "    }\n",
              "\n",
              "    .colab-df-convert:hover {\n",
              "      background-color: #E2EBFA;\n",
              "      box-shadow: 0px 1px 2px rgba(60, 64, 67, 0.3), 0px 1px 3px 1px rgba(60, 64, 67, 0.15);\n",
              "      fill: #174EA6;\n",
              "    }\n",
              "\n",
              "    .colab-df-buttons div {\n",
              "      margin-bottom: 4px;\n",
              "    }\n",
              "\n",
              "    [theme=dark] .colab-df-convert {\n",
              "      background-color: #3B4455;\n",
              "      fill: #D2E3FC;\n",
              "    }\n",
              "\n",
              "    [theme=dark] .colab-df-convert:hover {\n",
              "      background-color: #434B5C;\n",
              "      box-shadow: 0px 1px 3px 1px rgba(0, 0, 0, 0.15);\n",
              "      filter: drop-shadow(0px 1px 2px rgba(0, 0, 0, 0.3));\n",
              "      fill: #FFFFFF;\n",
              "    }\n",
              "  </style>\n",
              "\n",
              "    <script>\n",
              "      const buttonEl =\n",
              "        document.querySelector('#df-177a718c-2ce9-4651-900a-85795bfd6179 button.colab-df-convert');\n",
              "      buttonEl.style.display =\n",
              "        google.colab.kernel.accessAllowed ? 'block' : 'none';\n",
              "\n",
              "      async function convertToInteractive(key) {\n",
              "        const element = document.querySelector('#df-177a718c-2ce9-4651-900a-85795bfd6179');\n",
              "        const dataTable =\n",
              "          await google.colab.kernel.invokeFunction('convertToInteractive',\n",
              "                                                    [key], {});\n",
              "        if (!dataTable) return;\n",
              "\n",
              "        const docLinkHtml = 'Like what you see? Visit the ' +\n",
              "          '<a target=\"_blank\" href=https://colab.research.google.com/notebooks/data_table.ipynb>data table notebook</a>'\n",
              "          + ' to learn more about interactive tables.';\n",
              "        element.innerHTML = '';\n",
              "        dataTable['output_type'] = 'display_data';\n",
              "        await google.colab.output.renderOutput(dataTable, element);\n",
              "        const docLink = document.createElement('div');\n",
              "        docLink.innerHTML = docLinkHtml;\n",
              "        element.appendChild(docLink);\n",
              "      }\n",
              "    </script>\n",
              "  </div>\n",
              "\n",
              "\n",
              "<div id=\"df-52a604d6-7636-4a31-9355-792caa2e780b\">\n",
              "  <button class=\"colab-df-quickchart\" onclick=\"quickchart('df-52a604d6-7636-4a31-9355-792caa2e780b')\"\n",
              "            title=\"Suggest charts\"\n",
              "            style=\"display:none;\">\n",
              "\n",
              "<svg xmlns=\"http://www.w3.org/2000/svg\" height=\"24px\"viewBox=\"0 0 24 24\"\n",
              "     width=\"24px\">\n",
              "    <g>\n",
              "        <path d=\"M19 3H5c-1.1 0-2 .9-2 2v14c0 1.1.9 2 2 2h14c1.1 0 2-.9 2-2V5c0-1.1-.9-2-2-2zM9 17H7v-7h2v7zm4 0h-2V7h2v10zm4 0h-2v-4h2v4z\"/>\n",
              "    </g>\n",
              "</svg>\n",
              "  </button>\n",
              "\n",
              "<style>\n",
              "  .colab-df-quickchart {\n",
              "      --bg-color: #E8F0FE;\n",
              "      --fill-color: #1967D2;\n",
              "      --hover-bg-color: #E2EBFA;\n",
              "      --hover-fill-color: #174EA6;\n",
              "      --disabled-fill-color: #AAA;\n",
              "      --disabled-bg-color: #DDD;\n",
              "  }\n",
              "\n",
              "  [theme=dark] .colab-df-quickchart {\n",
              "      --bg-color: #3B4455;\n",
              "      --fill-color: #D2E3FC;\n",
              "      --hover-bg-color: #434B5C;\n",
              "      --hover-fill-color: #FFFFFF;\n",
              "      --disabled-bg-color: #3B4455;\n",
              "      --disabled-fill-color: #666;\n",
              "  }\n",
              "\n",
              "  .colab-df-quickchart {\n",
              "    background-color: var(--bg-color);\n",
              "    border: none;\n",
              "    border-radius: 50%;\n",
              "    cursor: pointer;\n",
              "    display: none;\n",
              "    fill: var(--fill-color);\n",
              "    height: 32px;\n",
              "    padding: 0;\n",
              "    width: 32px;\n",
              "  }\n",
              "\n",
              "  .colab-df-quickchart:hover {\n",
              "    background-color: var(--hover-bg-color);\n",
              "    box-shadow: 0 1px 2px rgba(60, 64, 67, 0.3), 0 1px 3px 1px rgba(60, 64, 67, 0.15);\n",
              "    fill: var(--button-hover-fill-color);\n",
              "  }\n",
              "\n",
              "  .colab-df-quickchart-complete:disabled,\n",
              "  .colab-df-quickchart-complete:disabled:hover {\n",
              "    background-color: var(--disabled-bg-color);\n",
              "    fill: var(--disabled-fill-color);\n",
              "    box-shadow: none;\n",
              "  }\n",
              "\n",
              "  .colab-df-spinner {\n",
              "    border: 2px solid var(--fill-color);\n",
              "    border-color: transparent;\n",
              "    border-bottom-color: var(--fill-color);\n",
              "    animation:\n",
              "      spin 1s steps(1) infinite;\n",
              "  }\n",
              "\n",
              "  @keyframes spin {\n",
              "    0% {\n",
              "      border-color: transparent;\n",
              "      border-bottom-color: var(--fill-color);\n",
              "      border-left-color: var(--fill-color);\n",
              "    }\n",
              "    20% {\n",
              "      border-color: transparent;\n",
              "      border-left-color: var(--fill-color);\n",
              "      border-top-color: var(--fill-color);\n",
              "    }\n",
              "    30% {\n",
              "      border-color: transparent;\n",
              "      border-left-color: var(--fill-color);\n",
              "      border-top-color: var(--fill-color);\n",
              "      border-right-color: var(--fill-color);\n",
              "    }\n",
              "    40% {\n",
              "      border-color: transparent;\n",
              "      border-right-color: var(--fill-color);\n",
              "      border-top-color: var(--fill-color);\n",
              "    }\n",
              "    60% {\n",
              "      border-color: transparent;\n",
              "      border-right-color: var(--fill-color);\n",
              "    }\n",
              "    80% {\n",
              "      border-color: transparent;\n",
              "      border-right-color: var(--fill-color);\n",
              "      border-bottom-color: var(--fill-color);\n",
              "    }\n",
              "    90% {\n",
              "      border-color: transparent;\n",
              "      border-bottom-color: var(--fill-color);\n",
              "    }\n",
              "  }\n",
              "</style>\n",
              "\n",
              "  <script>\n",
              "    async function quickchart(key) {\n",
              "      const quickchartButtonEl =\n",
              "        document.querySelector('#' + key + ' button');\n",
              "      quickchartButtonEl.disabled = true;  // To prevent multiple clicks.\n",
              "      quickchartButtonEl.classList.add('colab-df-spinner');\n",
              "      try {\n",
              "        const charts = await google.colab.kernel.invokeFunction(\n",
              "            'suggestCharts', [key], {});\n",
              "      } catch (error) {\n",
              "        console.error('Error during call to suggestCharts:', error);\n",
              "      }\n",
              "      quickchartButtonEl.classList.remove('colab-df-spinner');\n",
              "      quickchartButtonEl.classList.add('colab-df-quickchart-complete');\n",
              "    }\n",
              "    (() => {\n",
              "      let quickchartButtonEl =\n",
              "        document.querySelector('#df-52a604d6-7636-4a31-9355-792caa2e780b button');\n",
              "      quickchartButtonEl.style.display =\n",
              "        google.colab.kernel.accessAllowed ? 'block' : 'none';\n",
              "    })();\n",
              "  </script>\n",
              "</div>\n",
              "\n",
              "    </div>\n",
              "  </div>\n"
            ],
            "application/vnd.google.colaboratory.intrinsic+json": {
              "type": "dataframe",
              "variable_name": "new_data",
              "summary": "{\n  \"name\": \"new_data\",\n  \"rows\": 4980,\n  \"fields\": [\n    {\n      \"column\": \"HighestSpend\",\n      \"properties\": {\n        \"dtype\": \"number\",\n        \"std\": 46,\n        \"min\": 8,\n        \"max\": 224,\n        \"num_unique_values\": 162,\n        \"samples\": [\n          151,\n          111,\n          88\n        ],\n        \"semantic_type\": \"\",\n        \"description\": \"\"\n      }\n    },\n    {\n      \"column\": \"HiddenScore\",\n      \"properties\": {\n        \"dtype\": \"category\",\n        \"num_unique_values\": 4,\n        \"samples\": [\n          4,\n          2,\n          1\n        ],\n        \"semantic_type\": \"\",\n        \"description\": \"\"\n      }\n    },\n    {\n      \"column\": \"MonthlyAverageSpend\",\n      \"properties\": {\n        \"dtype\": \"number\",\n        \"std\": 1.7500063081109718,\n        \"min\": 0.0,\n        \"max\": 10.0,\n        \"num_unique_values\": 108,\n        \"samples\": [\n          3.4,\n          0.9,\n          2.5\n        ],\n        \"semantic_type\": \"\",\n        \"description\": \"\"\n      }\n    },\n    {\n      \"column\": \"Level\",\n      \"properties\": {\n        \"dtype\": \"category\",\n        \"num_unique_values\": 3,\n        \"samples\": [\n          3,\n          2,\n          1\n        ],\n        \"semantic_type\": \"\",\n        \"description\": \"\"\n      }\n    },\n    {\n      \"column\": \"Mortgage\",\n      \"properties\": {\n        \"dtype\": \"number\",\n        \"std\": 101,\n        \"min\": 0,\n        \"max\": 635,\n        \"num_unique_values\": 347,\n        \"samples\": [\n          330,\n          203,\n          258\n        ],\n        \"semantic_type\": \"\",\n        \"description\": \"\"\n      }\n    },\n    {\n      \"column\": \"Security\",\n      \"properties\": {\n        \"dtype\": \"category\",\n        \"num_unique_values\": 2,\n        \"samples\": [\n          1,\n          0\n        ],\n        \"semantic_type\": \"\",\n        \"description\": \"\"\n      }\n    },\n    {\n      \"column\": \"FixedDepositAccount\",\n      \"properties\": {\n        \"dtype\": \"category\",\n        \"num_unique_values\": 2,\n        \"samples\": [\n          1,\n          0\n        ],\n        \"semantic_type\": \"\",\n        \"description\": \"\"\n      }\n    },\n    {\n      \"column\": \"InternetBanking\",\n      \"properties\": {\n        \"dtype\": \"category\",\n        \"num_unique_values\": 2,\n        \"samples\": [\n          1,\n          0\n        ],\n        \"semantic_type\": \"\",\n        \"description\": \"\"\n      }\n    },\n    {\n      \"column\": \"CreditCard\",\n      \"properties\": {\n        \"dtype\": \"category\",\n        \"num_unique_values\": 2,\n        \"samples\": [\n          1,\n          0\n        ],\n        \"semantic_type\": \"\",\n        \"description\": \"\"\n      }\n    },\n    {\n      \"column\": \"LoanOnCard\",\n      \"properties\": {\n        \"dtype\": \"category\",\n        \"num_unique_values\": 2,\n        \"samples\": [\n          0.0,\n          1.0\n        ],\n        \"semantic_type\": \"\",\n        \"description\": \"\"\n      }\n    }\n  ]\n}"
            }
          },
          "metadata": {},
          "execution_count": 21
        }
      ],
      "source": [
        "new_data.head()"
      ]
    },
    {
      "cell_type": "markdown",
      "id": "0dddb72b",
      "metadata": {
        "id": "0dddb72b"
      },
      "source": [
        "Let us check if other categorical columns affect the target variable or not."
      ]
    },
    {
      "cell_type": "code",
      "execution_count": 22,
      "id": "fd55f306",
      "metadata": {
        "id": "fd55f306"
      },
      "outputs": [],
      "source": [
        "cat_cols=list(new_data.select_dtypes(include=['category']).columns)"
      ]
    },
    {
      "cell_type": "code",
      "execution_count": 23,
      "id": "91342862",
      "metadata": {
        "colab": {
          "base_uri": "https://localhost:8080/"
        },
        "id": "91342862",
        "outputId": "bc122f74-4f71-4ea3-f460-fad1b4623fb8"
      },
      "outputs": [
        {
          "output_type": "execute_result",
          "data": {
            "text/plain": [
              "['HiddenScore',\n",
              " 'Level',\n",
              " 'Security',\n",
              " 'FixedDepositAccount',\n",
              " 'InternetBanking',\n",
              " 'CreditCard',\n",
              " 'LoanOnCard']"
            ]
          },
          "metadata": {},
          "execution_count": 23
        }
      ],
      "source": [
        "cat_cols"
      ]
    },
    {
      "cell_type": "code",
      "execution_count": 24,
      "id": "bdd2cafa",
      "metadata": {
        "id": "bdd2cafa"
      },
      "outputs": [],
      "source": [
        "cat_cols.remove('LoanOnCard')"
      ]
    },
    {
      "cell_type": "code",
      "execution_count": 25,
      "id": "151247c1",
      "metadata": {
        "colab": {
          "base_uri": "https://localhost:8080/"
        },
        "id": "151247c1",
        "outputId": "714013ac-ee16-42b5-cdb2-9ca64310db94"
      },
      "outputs": [
        {
          "output_type": "stream",
          "name": "stdout",
          "text": [
            "\u001b[1m Rejecting Null Hypothesis. \n",
            " There is significant difference in HiddenScore Feature for different category of target variable(Loan on card)\n",
            "\n",
            "\n",
            "\u001b[1m Rejecting Null Hypothesis. \n",
            " There is significant difference in Level Feature for different category of target variable(Loan on card)\n",
            "\n",
            "\n",
            "\u001b[1m Fail to Reject Null Hypothesis.\n",
            " There is no significant difference in Security Feature for different category of target variable(Loan on card)\n",
            "\n",
            "\n",
            "\u001b[1m Rejecting Null Hypothesis. \n",
            " There is significant difference in FixedDepositAccount Feature for different category of target variable(Loan on card)\n",
            "\n",
            "\n",
            "\u001b[1m Fail to Reject Null Hypothesis.\n",
            " There is no significant difference in InternetBanking Feature for different category of target variable(Loan on card)\n",
            "\n",
            "\n",
            "\u001b[1m Fail to Reject Null Hypothesis.\n",
            " There is no significant difference in CreditCard Feature for different category of target variable(Loan on card)\n",
            "\n",
            "\n"
          ]
        }
      ],
      "source": [
        "for i in cat_cols:\n",
        "    crosstab=pd.crosstab(new_data['LoanOnCard'],new_data[i])\n",
        "    chi,p_value,dof,expected=stats.chi2_contingency(crosstab)\n",
        "    if p_value < 0.05:\n",
        "        print('{} Rejecting Null Hypothesis. \\n There is significant difference in {} Feature for different category of target variable(Loan on card)'.format('\\033[1m',i))\n",
        "    else:\n",
        "        print('{} Fail to Reject Null Hypothesis.\\n There is no significant difference in {} Feature for different category of target variable(Loan on card)'.format('\\033[1m',i))\n",
        "    print('\\n')"
      ]
    },
    {
      "cell_type": "markdown",
      "id": "457aad09",
      "metadata": {
        "id": "457aad09"
      },
      "source": [
        "From the above result, we infer that Security, InternetBanking and CreditCard doesn't affect the target variable so they can be removed before model building."
      ]
    },
    {
      "cell_type": "code",
      "execution_count": 26,
      "id": "009efba1",
      "metadata": {
        "id": "009efba1"
      },
      "outputs": [],
      "source": [
        "new_data.drop(['Security','CreditCard','InternetBanking'],axis=1,inplace=True)"
      ]
    },
    {
      "cell_type": "code",
      "execution_count": 27,
      "id": "9e46af01",
      "metadata": {
        "colab": {
          "base_uri": "https://localhost:8080/",
          "height": 206
        },
        "id": "9e46af01",
        "outputId": "4ea6d25c-91a6-4e99-b77d-519c6ac6a189"
      },
      "outputs": [
        {
          "output_type": "execute_result",
          "data": {
            "text/plain": [
              "    HighestSpend HiddenScore  MonthlyAverageSpend Level  Mortgage  \\\n",
              "9            180           1                  8.9     3         0   \n",
              "10           105           4                  2.4     3         0   \n",
              "11            45           3                  0.1     2         0   \n",
              "12           114           2                  3.8     3         0   \n",
              "13            40           4                  2.5     2         0   \n",
              "\n",
              "   FixedDepositAccount LoanOnCard  \n",
              "9                    0        1.0  \n",
              "10                   0        0.0  \n",
              "11                   0        0.0  \n",
              "12                   0        0.0  \n",
              "13                   0        0.0  "
            ],
            "text/html": [
              "\n",
              "  <div id=\"df-c1697250-1264-4417-88c1-e63a6b458436\" class=\"colab-df-container\">\n",
              "    <div>\n",
              "<style scoped>\n",
              "    .dataframe tbody tr th:only-of-type {\n",
              "        vertical-align: middle;\n",
              "    }\n",
              "\n",
              "    .dataframe tbody tr th {\n",
              "        vertical-align: top;\n",
              "    }\n",
              "\n",
              "    .dataframe thead th {\n",
              "        text-align: right;\n",
              "    }\n",
              "</style>\n",
              "<table border=\"1\" class=\"dataframe\">\n",
              "  <thead>\n",
              "    <tr style=\"text-align: right;\">\n",
              "      <th></th>\n",
              "      <th>HighestSpend</th>\n",
              "      <th>HiddenScore</th>\n",
              "      <th>MonthlyAverageSpend</th>\n",
              "      <th>Level</th>\n",
              "      <th>Mortgage</th>\n",
              "      <th>FixedDepositAccount</th>\n",
              "      <th>LoanOnCard</th>\n",
              "    </tr>\n",
              "  </thead>\n",
              "  <tbody>\n",
              "    <tr>\n",
              "      <th>9</th>\n",
              "      <td>180</td>\n",
              "      <td>1</td>\n",
              "      <td>8.9</td>\n",
              "      <td>3</td>\n",
              "      <td>0</td>\n",
              "      <td>0</td>\n",
              "      <td>1.0</td>\n",
              "    </tr>\n",
              "    <tr>\n",
              "      <th>10</th>\n",
              "      <td>105</td>\n",
              "      <td>4</td>\n",
              "      <td>2.4</td>\n",
              "      <td>3</td>\n",
              "      <td>0</td>\n",
              "      <td>0</td>\n",
              "      <td>0.0</td>\n",
              "    </tr>\n",
              "    <tr>\n",
              "      <th>11</th>\n",
              "      <td>45</td>\n",
              "      <td>3</td>\n",
              "      <td>0.1</td>\n",
              "      <td>2</td>\n",
              "      <td>0</td>\n",
              "      <td>0</td>\n",
              "      <td>0.0</td>\n",
              "    </tr>\n",
              "    <tr>\n",
              "      <th>12</th>\n",
              "      <td>114</td>\n",
              "      <td>2</td>\n",
              "      <td>3.8</td>\n",
              "      <td>3</td>\n",
              "      <td>0</td>\n",
              "      <td>0</td>\n",
              "      <td>0.0</td>\n",
              "    </tr>\n",
              "    <tr>\n",
              "      <th>13</th>\n",
              "      <td>40</td>\n",
              "      <td>4</td>\n",
              "      <td>2.5</td>\n",
              "      <td>2</td>\n",
              "      <td>0</td>\n",
              "      <td>0</td>\n",
              "      <td>0.0</td>\n",
              "    </tr>\n",
              "  </tbody>\n",
              "</table>\n",
              "</div>\n",
              "    <div class=\"colab-df-buttons\">\n",
              "\n",
              "  <div class=\"colab-df-container\">\n",
              "    <button class=\"colab-df-convert\" onclick=\"convertToInteractive('df-c1697250-1264-4417-88c1-e63a6b458436')\"\n",
              "            title=\"Convert this dataframe to an interactive table.\"\n",
              "            style=\"display:none;\">\n",
              "\n",
              "  <svg xmlns=\"http://www.w3.org/2000/svg\" height=\"24px\" viewBox=\"0 -960 960 960\">\n",
              "    <path d=\"M120-120v-720h720v720H120Zm60-500h600v-160H180v160Zm220 220h160v-160H400v160Zm0 220h160v-160H400v160ZM180-400h160v-160H180v160Zm440 0h160v-160H620v160ZM180-180h160v-160H180v160Zm440 0h160v-160H620v160Z\"/>\n",
              "  </svg>\n",
              "    </button>\n",
              "\n",
              "  <style>\n",
              "    .colab-df-container {\n",
              "      display:flex;\n",
              "      gap: 12px;\n",
              "    }\n",
              "\n",
              "    .colab-df-convert {\n",
              "      background-color: #E8F0FE;\n",
              "      border: none;\n",
              "      border-radius: 50%;\n",
              "      cursor: pointer;\n",
              "      display: none;\n",
              "      fill: #1967D2;\n",
              "      height: 32px;\n",
              "      padding: 0 0 0 0;\n",
              "      width: 32px;\n",
              "    }\n",
              "\n",
              "    .colab-df-convert:hover {\n",
              "      background-color: #E2EBFA;\n",
              "      box-shadow: 0px 1px 2px rgba(60, 64, 67, 0.3), 0px 1px 3px 1px rgba(60, 64, 67, 0.15);\n",
              "      fill: #174EA6;\n",
              "    }\n",
              "\n",
              "    .colab-df-buttons div {\n",
              "      margin-bottom: 4px;\n",
              "    }\n",
              "\n",
              "    [theme=dark] .colab-df-convert {\n",
              "      background-color: #3B4455;\n",
              "      fill: #D2E3FC;\n",
              "    }\n",
              "\n",
              "    [theme=dark] .colab-df-convert:hover {\n",
              "      background-color: #434B5C;\n",
              "      box-shadow: 0px 1px 3px 1px rgba(0, 0, 0, 0.15);\n",
              "      filter: drop-shadow(0px 1px 2px rgba(0, 0, 0, 0.3));\n",
              "      fill: #FFFFFF;\n",
              "    }\n",
              "  </style>\n",
              "\n",
              "    <script>\n",
              "      const buttonEl =\n",
              "        document.querySelector('#df-c1697250-1264-4417-88c1-e63a6b458436 button.colab-df-convert');\n",
              "      buttonEl.style.display =\n",
              "        google.colab.kernel.accessAllowed ? 'block' : 'none';\n",
              "\n",
              "      async function convertToInteractive(key) {\n",
              "        const element = document.querySelector('#df-c1697250-1264-4417-88c1-e63a6b458436');\n",
              "        const dataTable =\n",
              "          await google.colab.kernel.invokeFunction('convertToInteractive',\n",
              "                                                    [key], {});\n",
              "        if (!dataTable) return;\n",
              "\n",
              "        const docLinkHtml = 'Like what you see? Visit the ' +\n",
              "          '<a target=\"_blank\" href=https://colab.research.google.com/notebooks/data_table.ipynb>data table notebook</a>'\n",
              "          + ' to learn more about interactive tables.';\n",
              "        element.innerHTML = '';\n",
              "        dataTable['output_type'] = 'display_data';\n",
              "        await google.colab.output.renderOutput(dataTable, element);\n",
              "        const docLink = document.createElement('div');\n",
              "        docLink.innerHTML = docLinkHtml;\n",
              "        element.appendChild(docLink);\n",
              "      }\n",
              "    </script>\n",
              "  </div>\n",
              "\n",
              "\n",
              "<div id=\"df-12e0882d-8a89-4736-8795-3e2fdfb4a865\">\n",
              "  <button class=\"colab-df-quickchart\" onclick=\"quickchart('df-12e0882d-8a89-4736-8795-3e2fdfb4a865')\"\n",
              "            title=\"Suggest charts\"\n",
              "            style=\"display:none;\">\n",
              "\n",
              "<svg xmlns=\"http://www.w3.org/2000/svg\" height=\"24px\"viewBox=\"0 0 24 24\"\n",
              "     width=\"24px\">\n",
              "    <g>\n",
              "        <path d=\"M19 3H5c-1.1 0-2 .9-2 2v14c0 1.1.9 2 2 2h14c1.1 0 2-.9 2-2V5c0-1.1-.9-2-2-2zM9 17H7v-7h2v7zm4 0h-2V7h2v10zm4 0h-2v-4h2v4z\"/>\n",
              "    </g>\n",
              "</svg>\n",
              "  </button>\n",
              "\n",
              "<style>\n",
              "  .colab-df-quickchart {\n",
              "      --bg-color: #E8F0FE;\n",
              "      --fill-color: #1967D2;\n",
              "      --hover-bg-color: #E2EBFA;\n",
              "      --hover-fill-color: #174EA6;\n",
              "      --disabled-fill-color: #AAA;\n",
              "      --disabled-bg-color: #DDD;\n",
              "  }\n",
              "\n",
              "  [theme=dark] .colab-df-quickchart {\n",
              "      --bg-color: #3B4455;\n",
              "      --fill-color: #D2E3FC;\n",
              "      --hover-bg-color: #434B5C;\n",
              "      --hover-fill-color: #FFFFFF;\n",
              "      --disabled-bg-color: #3B4455;\n",
              "      --disabled-fill-color: #666;\n",
              "  }\n",
              "\n",
              "  .colab-df-quickchart {\n",
              "    background-color: var(--bg-color);\n",
              "    border: none;\n",
              "    border-radius: 50%;\n",
              "    cursor: pointer;\n",
              "    display: none;\n",
              "    fill: var(--fill-color);\n",
              "    height: 32px;\n",
              "    padding: 0;\n",
              "    width: 32px;\n",
              "  }\n",
              "\n",
              "  .colab-df-quickchart:hover {\n",
              "    background-color: var(--hover-bg-color);\n",
              "    box-shadow: 0 1px 2px rgba(60, 64, 67, 0.3), 0 1px 3px 1px rgba(60, 64, 67, 0.15);\n",
              "    fill: var(--button-hover-fill-color);\n",
              "  }\n",
              "\n",
              "  .colab-df-quickchart-complete:disabled,\n",
              "  .colab-df-quickchart-complete:disabled:hover {\n",
              "    background-color: var(--disabled-bg-color);\n",
              "    fill: var(--disabled-fill-color);\n",
              "    box-shadow: none;\n",
              "  }\n",
              "\n",
              "  .colab-df-spinner {\n",
              "    border: 2px solid var(--fill-color);\n",
              "    border-color: transparent;\n",
              "    border-bottom-color: var(--fill-color);\n",
              "    animation:\n",
              "      spin 1s steps(1) infinite;\n",
              "  }\n",
              "\n",
              "  @keyframes spin {\n",
              "    0% {\n",
              "      border-color: transparent;\n",
              "      border-bottom-color: var(--fill-color);\n",
              "      border-left-color: var(--fill-color);\n",
              "    }\n",
              "    20% {\n",
              "      border-color: transparent;\n",
              "      border-left-color: var(--fill-color);\n",
              "      border-top-color: var(--fill-color);\n",
              "    }\n",
              "    30% {\n",
              "      border-color: transparent;\n",
              "      border-left-color: var(--fill-color);\n",
              "      border-top-color: var(--fill-color);\n",
              "      border-right-color: var(--fill-color);\n",
              "    }\n",
              "    40% {\n",
              "      border-color: transparent;\n",
              "      border-right-color: var(--fill-color);\n",
              "      border-top-color: var(--fill-color);\n",
              "    }\n",
              "    60% {\n",
              "      border-color: transparent;\n",
              "      border-right-color: var(--fill-color);\n",
              "    }\n",
              "    80% {\n",
              "      border-color: transparent;\n",
              "      border-right-color: var(--fill-color);\n",
              "      border-bottom-color: var(--fill-color);\n",
              "    }\n",
              "    90% {\n",
              "      border-color: transparent;\n",
              "      border-bottom-color: var(--fill-color);\n",
              "    }\n",
              "  }\n",
              "</style>\n",
              "\n",
              "  <script>\n",
              "    async function quickchart(key) {\n",
              "      const quickchartButtonEl =\n",
              "        document.querySelector('#' + key + ' button');\n",
              "      quickchartButtonEl.disabled = true;  // To prevent multiple clicks.\n",
              "      quickchartButtonEl.classList.add('colab-df-spinner');\n",
              "      try {\n",
              "        const charts = await google.colab.kernel.invokeFunction(\n",
              "            'suggestCharts', [key], {});\n",
              "      } catch (error) {\n",
              "        console.error('Error during call to suggestCharts:', error);\n",
              "      }\n",
              "      quickchartButtonEl.classList.remove('colab-df-spinner');\n",
              "      quickchartButtonEl.classList.add('colab-df-quickchart-complete');\n",
              "    }\n",
              "    (() => {\n",
              "      let quickchartButtonEl =\n",
              "        document.querySelector('#df-12e0882d-8a89-4736-8795-3e2fdfb4a865 button');\n",
              "      quickchartButtonEl.style.display =\n",
              "        google.colab.kernel.accessAllowed ? 'block' : 'none';\n",
              "    })();\n",
              "  </script>\n",
              "</div>\n",
              "\n",
              "    </div>\n",
              "  </div>\n"
            ],
            "application/vnd.google.colaboratory.intrinsic+json": {
              "type": "dataframe",
              "variable_name": "new_data",
              "summary": "{\n  \"name\": \"new_data\",\n  \"rows\": 4980,\n  \"fields\": [\n    {\n      \"column\": \"HighestSpend\",\n      \"properties\": {\n        \"dtype\": \"number\",\n        \"std\": 46,\n        \"min\": 8,\n        \"max\": 224,\n        \"num_unique_values\": 162,\n        \"samples\": [\n          151,\n          111,\n          88\n        ],\n        \"semantic_type\": \"\",\n        \"description\": \"\"\n      }\n    },\n    {\n      \"column\": \"HiddenScore\",\n      \"properties\": {\n        \"dtype\": \"category\",\n        \"num_unique_values\": 4,\n        \"samples\": [\n          4,\n          2,\n          1\n        ],\n        \"semantic_type\": \"\",\n        \"description\": \"\"\n      }\n    },\n    {\n      \"column\": \"MonthlyAverageSpend\",\n      \"properties\": {\n        \"dtype\": \"number\",\n        \"std\": 1.7500063081109718,\n        \"min\": 0.0,\n        \"max\": 10.0,\n        \"num_unique_values\": 108,\n        \"samples\": [\n          3.4,\n          0.9,\n          2.5\n        ],\n        \"semantic_type\": \"\",\n        \"description\": \"\"\n      }\n    },\n    {\n      \"column\": \"Level\",\n      \"properties\": {\n        \"dtype\": \"category\",\n        \"num_unique_values\": 3,\n        \"samples\": [\n          3,\n          2,\n          1\n        ],\n        \"semantic_type\": \"\",\n        \"description\": \"\"\n      }\n    },\n    {\n      \"column\": \"Mortgage\",\n      \"properties\": {\n        \"dtype\": \"number\",\n        \"std\": 101,\n        \"min\": 0,\n        \"max\": 635,\n        \"num_unique_values\": 347,\n        \"samples\": [\n          330,\n          203,\n          258\n        ],\n        \"semantic_type\": \"\",\n        \"description\": \"\"\n      }\n    },\n    {\n      \"column\": \"FixedDepositAccount\",\n      \"properties\": {\n        \"dtype\": \"category\",\n        \"num_unique_values\": 2,\n        \"samples\": [\n          1,\n          0\n        ],\n        \"semantic_type\": \"\",\n        \"description\": \"\"\n      }\n    },\n    {\n      \"column\": \"LoanOnCard\",\n      \"properties\": {\n        \"dtype\": \"category\",\n        \"num_unique_values\": 2,\n        \"samples\": [\n          0.0,\n          1.0\n        ],\n        \"semantic_type\": \"\",\n        \"description\": \"\"\n      }\n    }\n  ]\n}"
            }
          },
          "metadata": {},
          "execution_count": 27
        }
      ],
      "source": [
        "new_data.head()"
      ]
    },
    {
      "cell_type": "markdown",
      "id": "fae5fb4f",
      "metadata": {
        "id": "fae5fb4f"
      },
      "source": [
        "Checking for outliers in the data before building model"
      ]
    },
    {
      "cell_type": "code",
      "execution_count": 28,
      "id": "dcaa0b3d",
      "metadata": {
        "colab": {
          "base_uri": "https://localhost:8080/",
          "height": 451
        },
        "id": "dcaa0b3d",
        "outputId": "6ef738c0-7ece-4a0a-c949-823e77d8e38a"
      },
      "outputs": [
        {
          "output_type": "display_data",
          "data": {
            "text/plain": [
              "<Figure size 640x480 with 1 Axes>"
            ],
            "image/png": "[encoded data removed]"
          },
          "metadata": {}
        }
      ],
      "source": [
        "sns.distplot(new_data['HighestSpend']);"
      ]
    },
    {
      "cell_type": "code",
      "execution_count": 29,
      "id": "395b3042",
      "metadata": {
        "colab": {
          "base_uri": "https://localhost:8080/",
          "height": 467
        },
        "id": "395b3042",
        "outputId": "237fd593-b9c8-449f-fa63-757afe9c3548"
      },
      "outputs": [
        {
          "output_type": "execute_result",
          "data": {
            "text/plain": [
              "<Axes: xlabel='MonthlyAverageSpend'>"
            ]
          },
          "metadata": {},
          "execution_count": 29
        },
        {
          "output_type": "display_data",
          "data": {
            "text/plain": [
              "<Figure size 640x480 with 1 Axes>"
            ],
            "image/png": "[encoded data removed]"
          },
          "metadata": {}
        }
      ],
      "source": [
        "sns.boxplot(x = 'MonthlyAverageSpend', data = new_data)"
      ]
    },
    {
      "cell_type": "code",
      "execution_count": 30,
      "id": "b441c824",
      "metadata": {
        "colab": {
          "base_uri": "https://localhost:8080/",
          "height": 467
        },
        "id": "b441c824",
        "outputId": "b21cebdf-a21c-40af-a094-a59b90a45a93"
      },
      "outputs": [
        {
          "output_type": "execute_result",
          "data": {
            "text/plain": [
              "<Axes: xlabel='Mortgage'>"
            ]
          },
          "metadata": {},
          "execution_count": 30
        },
        {
          "output_type": "display_data",
          "data": {
            "text/plain": [
              "<Figure size 640x480 with 1 Axes>"
            ],
            "image/png": "[encoded data removed]"
          },
          "metadata": {}
        }
      ],
      "source": [
        "sns.boxplot(x = 'Mortgage', data= new_data)"
      ]
    },
    {
      "cell_type": "markdown",
      "id": "2f59cbb8",
      "metadata": {
        "id": "2f59cbb8"
      },
      "source": [
        "We can clearly see that the data for above three features is highly right skewed because of the outliers."
      ]
    },
    {
      "cell_type": "markdown",
      "id": "439de694",
      "metadata": {
        "id": "439de694"
      },
      "source": [
        "**3. Data Preparation and model building:**"
      ]
    },
    {
      "cell_type": "markdown",
      "id": "c0360325",
      "metadata": {
        "id": "c0360325"
      },
      "source": [
        "A. Split data into X and Y"
      ]
    },
    {
      "cell_type": "code",
      "execution_count": 31,
      "id": "eef048cf",
      "metadata": {
        "id": "eef048cf"
      },
      "outputs": [],
      "source": [
        "x=new_data.drop(columns='LoanOnCard')\n",
        "y=new_data['LoanOnCard']"
      ]
    },
    {
      "cell_type": "markdown",
      "id": "08c68a0e",
      "metadata": {
        "id": "08c68a0e"
      },
      "source": [
        "B. Split data into train and test. Keep 25% data reserved for testing"
      ]
    },
    {
      "cell_type": "code",
      "execution_count": 32,
      "id": "b9825a3b",
      "metadata": {
        "id": "b9825a3b"
      },
      "outputs": [],
      "source": [
        "from sklearn.model_selection import train_test_split\n",
        "from sklearn.metrics import accuracy_score, recall_score, confusion_matrix\n",
        "from sklearn.metrics import classification_report\n",
        "from sklearn import model_selection"
      ]
    },
    {
      "cell_type": "code",
      "execution_count": 33,
      "id": "9c8050a1",
      "metadata": {
        "id": "9c8050a1"
      },
      "outputs": [],
      "source": [
        "X_train, X_test, y_train, y_test = train_test_split(x, y, test_size=0.25, random_state=10)"
      ]
    },
    {
      "cell_type": "markdown",
      "id": "fc9f4516",
      "metadata": {
        "id": "fc9f4516"
      },
      "source": [
        "C. Train a Supervised Learning Classification base model - Logistic Regression"
      ]
    },
    {
      "cell_type": "code",
      "execution_count": 34,
      "id": "9e68db66",
      "metadata": {
        "colab": {
          "base_uri": "https://localhost:8080/"
        },
        "id": "9e68db66",
        "outputId": "dc238519-be3e-41a4-971a-a9962f6ed858"
      },
      "outputs": [
        {
          "output_type": "stream",
          "name": "stdout",
          "text": [
            "Accuracy on Training data: 0.9443105756358768\n",
            "Accuracy on Test data: 0.9518072289156626\n"
          ]
        }
      ],
      "source": [
        "from sklearn.linear_model import LogisticRegression\n",
        "logit = LogisticRegression()\n",
        "logit.fit(X_train, y_train)\n",
        "logit_pred = logit.predict(X_test)\n",
        "\n",
        "print('Accuracy on Training data:',logit.score(X_train, y_train) )\n",
        "print('Accuracy on Test data:',logit.score(X_test, y_test) )"
      ]
    },
    {
      "cell_type": "markdown",
      "id": "ccb031e6",
      "metadata": {
        "id": "ccb031e6"
      },
      "source": [
        "94.43% accuracy on training set and 95.18% accuracy on test set.\n",
        "Here training set accuracy and testing accuracy are balanced."
      ]
    },
    {
      "cell_type": "markdown",
      "id": "ae03f511",
      "metadata": {
        "id": "ae03f511"
      },
      "source": [
        "D. Print evaluation metrics for the model and clearly share insights."
      ]
    },
    {
      "cell_type": "code",
      "execution_count": 35,
      "id": "8cfe1637",
      "metadata": {
        "colab": {
          "base_uri": "https://localhost:8080/",
          "height": 445
        },
        "id": "8cfe1637",
        "outputId": "188849ba-6959-43e9-fd4d-538ece4d110b"
      },
      "outputs": [
        {
          "output_type": "display_data",
          "data": {
            "text/plain": [
              "<Figure size 700x500 with 2 Axes>"
            ],
            "image/png": "[encoded data removed]"
          },
          "metadata": {}
        }
      ],
      "source": [
        "cm = confusion_matrix(y_test, logit_pred)\n",
        "\n",
        "df_cm = pd.DataFrame(cm, index = [i for i in [\"Non-Loan holders\",\"Loan holders\"]],\n",
        "                  columns = [i for i in [\"Non-Loan holders\",\"Loan holders\"]])\n",
        "plt.figure(figsize = (7,5))\n",
        "sns.heatmap(df_cm, annot=True ,fmt='g')\n",
        "plt.show()"
      ]
    },
    {
      "cell_type": "markdown",
      "id": "afbe665e",
      "metadata": {
        "id": "afbe665e"
      },
      "source": [
        "Only 10 are predicted wrongly as Loan Holders and 50 were predicted wrongly as Non-Loan holders"
      ]
    },
    {
      "cell_type": "code",
      "execution_count": 36,
      "id": "14be5458",
      "metadata": {
        "colab": {
          "base_uri": "https://localhost:8080/"
        },
        "id": "14be5458",
        "outputId": "b193dd39-a3f7-4410-95b6-a1798741ca6d"
      },
      "outputs": [
        {
          "output_type": "stream",
          "name": "stdout",
          "text": [
            "classification  Matrix:\n",
            "               precision    recall  f1-score   support\n",
            "\n",
            "         0.0       0.96      0.99      0.97      1118\n",
            "         1.0       0.89      0.61      0.72       127\n",
            "\n",
            "    accuracy                           0.95      1245\n",
            "   macro avg       0.92      0.80      0.85      1245\n",
            "weighted avg       0.95      0.95      0.95      1245\n",
            "\n"
          ]
        }
      ],
      "source": [
        "print(\"classification  Matrix:\\n\",classification_report(y_test,logit_pred))"
      ]
    },
    {
      "cell_type": "markdown",
      "id": "887b62d5",
      "metadata": {
        "id": "887b62d5"
      },
      "source": [
        "Here you can see model is poor in predicting class 1 compared to class 0 Accuracy is good but in this case we need to look on recall value\n",
        "\n",
        "Here Recall tells that very less percentage of class 1 is predicted correctly from actual values We dont have enough sample of class 1 to train the model.\n",
        "\n",
        "Recall score can be improved by resampling the training set as the dataset is imbalanced."
      ]
    },
    {
      "cell_type": "markdown",
      "id": "5a91cf27",
      "metadata": {
        "id": "5a91cf27"
      },
      "source": [
        "E. Balance the data using the right balancing technique. i. Check distribution of the target variable ii. Say output is class A : 20% and class B : 80% iii. Here you need to balance the target variable as 50:50. iv. Try appropriate method to achieve the same."
      ]
    },
    {
      "cell_type": "code",
      "execution_count": 37,
      "id": "8f5d28db",
      "metadata": {
        "colab": {
          "base_uri": "https://localhost:8080/",
          "height": 467
        },
        "id": "8f5d28db",
        "outputId": "ed343d64-45f1-4764-9eb0-7eeb1fc1a9c0"
      },
      "outputs": [
        {
          "output_type": "execute_result",
          "data": {
            "text/plain": [
              "<Axes: xlabel='LoanOnCard', ylabel='count'>"
            ]
          },
          "metadata": {},
          "execution_count": 37
        },
        {
          "output_type": "display_data",
          "data": {
            "text/plain": [
              "<Figure size 640x480 with 1 Axes>"
            ],
            "image/png": "[encoded data removed]"
          },
          "metadata": {}
        }
      ],
      "source": [
        "sns.countplot(x = 'LoanOnCard',data=new_data)"
      ]
    },
    {
      "cell_type": "markdown",
      "id": "01c07a19",
      "metadata": {
        "id": "01c07a19"
      },
      "source": [
        "There is huge imbalance in target variable."
      ]
    },
    {
      "cell_type": "code",
      "execution_count": 38,
      "id": "eea95afb",
      "metadata": {
        "colab": {
          "base_uri": "https://localhost:8080/"
        },
        "id": "eea95afb",
        "outputId": "ea104ec9-0083-4ad1-963b-cb9cdbdbed3b"
      },
      "outputs": [
        {
          "output_type": "execute_result",
          "data": {
            "text/plain": [
              "LoanOnCard\n",
              "0    4500\n",
              "1     480\n",
              "Name: count, dtype: int64"
            ]
          },
          "metadata": {},
          "execution_count": 38
        }
      ],
      "source": [
        "#Use label encoder to convert categorical variables to one-hot encoding\n",
        "from sklearn.preprocessing import LabelEncoder\n",
        "le=LabelEncoder()\n",
        "new_data['LoanOnCard']=le.fit_transform(new_data['LoanOnCard'])\n",
        "new_data['LoanOnCard'].value_counts()"
      ]
    },
    {
      "cell_type": "markdown",
      "id": "f77f1be2",
      "metadata": {
        "id": "f77f1be2"
      },
      "source": [
        "We can clearly see that the data is imbalanced which may lead to predicting Non-Loan holders.\n",
        "\n",
        "Class Imbalance can be improved by using resampling techniques such as -\n",
        "\n",
        "Undersampling: It is the process where you randomly delete some of the observations from the majority class in order to match the numbers with the minority class.\n",
        "\n",
        "Oversampling: It is the process of generating synthetic data that tries to randomly generate a sample of the attributes from observations in the minority class\n",
        "\n",
        "Here we will use oversampling because undersampling may remove important information from the dataset."
      ]
    },
    {
      "cell_type": "markdown",
      "id": "486cf9cd",
      "metadata": {
        "id": "486cf9cd"
      },
      "source": [
        "**SMOTE**"
      ]
    },
    {
      "cell_type": "markdown",
      "id": "bbe0a958",
      "metadata": {
        "id": "bbe0a958"
      },
      "source": [
        "We will be using SMOTE (Synthetic Minority Oversampling Technique) that works by randomly picking a point from the minority class and computing the k-nearest neighbors for this point. The synthetic points are added between the chosen point and its neighbors.\n",
        "\n",
        "If we do resampling on entire data it may leak information to validation data as well. we need to test the model with unseen information. so we will do sampling only on training data."
      ]
    },
    {
      "cell_type": "code",
      "execution_count": 39,
      "id": "b4cef87b",
      "metadata": {
        "id": "b4cef87b"
      },
      "outputs": [],
      "source": [
        "from imblearn.over_sampling import SMOTENC"
      ]
    },
    {
      "cell_type": "code",
      "execution_count": 40,
      "id": "d1a40cd3",
      "metadata": {
        "id": "d1a40cd3"
      },
      "outputs": [],
      "source": [
        "smotenc = SMOTENC(categorical_features=[1,3,4,5],random_state = 10)\n",
        "x_res, y_res = smotenc.fit_resample(X_train, y_train)"
      ]
    },
    {
      "cell_type": "code",
      "execution_count": 41,
      "id": "6eeb1335",
      "metadata": {
        "colab": {
          "base_uri": "https://localhost:8080/"
        },
        "id": "6eeb1335",
        "outputId": "2d6b7823-0131-40e5-dc37-9902be2d85a4"
      },
      "outputs": [
        {
          "output_type": "stream",
          "name": "stdout",
          "text": [
            "Before sampling:\n",
            "LoanOnCard\n",
            "0.0    3382\n",
            "1.0     353\n",
            "Name: count, dtype: int64\n"
          ]
        }
      ],
      "source": [
        "print('Before sampling:')\n",
        "print(y_train.value_counts())"
      ]
    },
    {
      "cell_type": "code",
      "source": [
        "print('After sampling:')\n",
        "print(y_res.value_counts())"
      ],
      "metadata": {
        "colab": {
          "base_uri": "https://localhost:8080/"
        },
        "id": "8WX5zj4kIzet",
        "outputId": "0bba1d2c-78e5-4394-ca97-3e504ad28f02"
      },
      "id": "8WX5zj4kIzet",
      "execution_count": 42,
      "outputs": [
        {
          "output_type": "stream",
          "name": "stdout",
          "text": [
            "After sampling:\n",
            "LoanOnCard\n",
            "0.0    3382\n",
            "1.0    3382\n",
            "Name: count, dtype: int64\n"
          ]
        }
      ]
    },
    {
      "cell_type": "markdown",
      "source": [
        "Now the target variable is balanced."
      ],
      "metadata": {
        "id": "IBXnn-i0I2lK"
      },
      "id": "IBXnn-i0I2lK"
    },
    {
      "cell_type": "markdown",
      "source": [
        "F. Again train the same previous model on balanced data."
      ],
      "metadata": {
        "id": "iZTNNmmvI55f"
      },
      "id": "iZTNNmmvI55f"
    },
    {
      "cell_type": "code",
      "source": [
        "X_train, X_test, y_train, y_test = train_test_split(x_res,y_res, test_size=0.25, random_state=10)"
      ],
      "metadata": {
        "id": "5gbXmFioI3jQ"
      },
      "id": "5gbXmFioI3jQ",
      "execution_count": 43,
      "outputs": []
    },
    {
      "cell_type": "code",
      "source": [
        "logit = LogisticRegression()\n",
        "logit.fit(X_train, y_train)\n",
        "logit_pred = logit.predict(X_test)\n",
        "\n",
        "print('Accuracy on Training data:',logit.score(X_train, y_train) )\n",
        "print('Accuracy on Test data:',logit.score(X_test, y_test) )"
      ],
      "metadata": {
        "colab": {
          "base_uri": "https://localhost:8080/"
        },
        "id": "Iy0UUywnI_pt",
        "outputId": "f3c97d3b-0cb7-4cbd-8e47-2bd75e3cc77a"
      },
      "id": "Iy0UUywnI_pt",
      "execution_count": 44,
      "outputs": [
        {
          "output_type": "stream",
          "name": "stdout",
          "text": [
            "Accuracy on Training data: 0.9012418687167356\n",
            "Accuracy on Test data: 0.9030159668835009\n"
          ]
        }
      ]
    },
    {
      "cell_type": "markdown",
      "source": [
        "we can see there is decrease in test accuracy."
      ],
      "metadata": {
        "id": "wpzwWIK_JCX3"
      },
      "id": "wpzwWIK_JCX3"
    },
    {
      "cell_type": "code",
      "source": [
        "cm2 = confusion_matrix(y_test, logit_pred, labels=[0, 1])\n",
        "\n",
        "data_cm2 = pd.DataFrame(cm2, index = [i for i in [\"Non-Loan holders\",\"Loan holders\"]],\n",
        "                  columns = [i for i in [\"Non-Loan holders\",\"Loan holders\"]])\n",
        "plt.figure(figsize = (7,5))\n",
        "sns.heatmap(data_cm2, annot=True ,fmt='g')\n",
        "plt.show()"
      ],
      "metadata": {
        "colab": {
          "base_uri": "https://localhost:8080/",
          "height": 445
        },
        "id": "3sneEVkdJDFS",
        "outputId": "22e0f271-84df-48a6-e2ed-7120386bf62f"
      },
      "id": "3sneEVkdJDFS",
      "execution_count": 45,
      "outputs": [
        {
          "output_type": "display_data",
          "data": {
            "text/plain": [
              "<Figure size 700x500 with 2 Axes>"
            ],
            "image/png": "[encoded data removed]"
          },
          "metadata": {}
        }
      ]
    },
    {
      "cell_type": "markdown",
      "source": [
        "G. Print evaluation metrics and clearly share differences observed"
      ],
      "metadata": {
        "id": "3i9unnEoJIAh"
      },
      "id": "3i9unnEoJIAh"
    },
    {
      "cell_type": "code",
      "source": [
        "print(\"classification  Matrix:\\n\",classification_report(y_test,logit_pred))"
      ],
      "metadata": {
        "colab": {
          "base_uri": "https://localhost:8080/"
        },
        "id": "orhi6tPEJIe0",
        "outputId": "963017e9-b0fb-4a55-e7a7-695dfe41f7bb"
      },
      "id": "orhi6tPEJIe0",
      "execution_count": 46,
      "outputs": [
        {
          "output_type": "stream",
          "name": "stdout",
          "text": [
            "classification  Matrix:\n",
            "               precision    recall  f1-score   support\n",
            "\n",
            "         0.0       0.91      0.90      0.90       852\n",
            "         1.0       0.90      0.90      0.90       839\n",
            "\n",
            "    accuracy                           0.90      1691\n",
            "   macro avg       0.90      0.90      0.90      1691\n",
            "weighted avg       0.90      0.90      0.90      1691\n",
            "\n"
          ]
        }
      ]
    },
    {
      "cell_type": "markdown",
      "source": [
        "After running the same model on the balanced data, we can see that the accuracy has reduced However, we get a good recall value but the precision value is reduced"
      ],
      "metadata": {
        "id": "0Y4t9iUcJNby"
      },
      "id": "0Y4t9iUcJNby"
    },
    {
      "cell_type": "markdown",
      "source": [
        "**4. Performance Improvement**"
      ],
      "metadata": {
        "id": "3iERgSBQJSmy"
      },
      "id": "3iERgSBQJSmy"
    },
    {
      "cell_type": "markdown",
      "source": [
        "A. Train a base model each for SVM, KNN"
      ],
      "metadata": {
        "id": "w3ICYV1RJmqE"
      },
      "id": "w3ICYV1RJmqE"
    },
    {
      "cell_type": "code",
      "source": [
        "from sklearn.svm import SVC\n",
        "from sklearn.metrics import accuracy_score\n",
        "svc=SVC()\n",
        "svc.fit(X_train , y_train)\n",
        "pred=svc.predict(X_test)\n",
        "print('Model accuracy obtained using SVM is: {0:0.3f}'. format(accuracy_score(y_test, pred)))"
      ],
      "metadata": {
        "colab": {
          "base_uri": "https://localhost:8080/"
        },
        "id": "R7f794ROJM_y",
        "outputId": "3745ead4-3a0b-4a2f-a3d1-f6f9327539d8"
      },
      "id": "R7f794ROJM_y",
      "execution_count": 47,
      "outputs": [
        {
          "output_type": "stream",
          "name": "stdout",
          "text": [
            "Model accuracy obtained using SVM is: 0.882\n"
          ]
        }
      ]
    },
    {
      "cell_type": "code",
      "source": [
        "print(\"classification  Matrix:\\n\",classification_report(y_test,pred))"
      ],
      "metadata": {
        "colab": {
          "base_uri": "https://localhost:8080/"
        },
        "id": "_x7akUVHJsVQ",
        "outputId": "85a39770-7be6-4732-a052-42a3ed7aad26"
      },
      "id": "_x7akUVHJsVQ",
      "execution_count": 48,
      "outputs": [
        {
          "output_type": "stream",
          "name": "stdout",
          "text": [
            "classification  Matrix:\n",
            "               precision    recall  f1-score   support\n",
            "\n",
            "         0.0       0.92      0.83      0.88       852\n",
            "         1.0       0.85      0.93      0.89       839\n",
            "\n",
            "    accuracy                           0.88      1691\n",
            "   macro avg       0.89      0.88      0.88      1691\n",
            "weighted avg       0.89      0.88      0.88      1691\n",
            "\n"
          ]
        }
      ]
    },
    {
      "cell_type": "code",
      "source": [
        "from sklearn.neighbors import KNeighborsClassifier\n",
        "KNN = KNeighborsClassifier(n_neighbors= 5 , metric = 'euclidean' )\n",
        "KNN.fit(X_train , y_train)\n",
        "predicted_labels = KNN.predict(X_test)\n"
      ],
      "metadata": {
        "id": "VsfAxK7kJvY5"
      },
      "id": "VsfAxK7kJvY5",
      "execution_count": 50,
      "outputs": []
    },
    {
      "cell_type": "code",
      "source": [
        "print('Accuracy on Training data:',KNN.score(X_train, y_train))\n",
        "print('Accuracy on Test data:',KNN.score(X_test, y_test) )"
      ],
      "metadata": {
        "colab": {
          "base_uri": "https://localhost:8080/"
        },
        "id": "W7qevYMsJ6qs",
        "outputId": "40f47b45-e61f-4f3a-8939-294546d05d16"
      },
      "id": "W7qevYMsJ6qs",
      "execution_count": 51,
      "outputs": [
        {
          "output_type": "stream",
          "name": "stdout",
          "text": [
            "Accuracy on Training data: 0.9631381825349892\n",
            "Accuracy on Test data: 0.9343583678296866\n"
          ]
        }
      ]
    },
    {
      "cell_type": "code",
      "source": [
        "print(\"classification  Matrix:\\n\",classification_report(y_test,predicted_labels))"
      ],
      "metadata": {
        "colab": {
          "base_uri": "https://localhost:8080/"
        },
        "id": "55GbugGFJ7xD",
        "outputId": "a5a75f62-e887-4435-e608-818c4976ff01"
      },
      "id": "55GbugGFJ7xD",
      "execution_count": 52,
      "outputs": [
        {
          "output_type": "stream",
          "name": "stdout",
          "text": [
            "classification  Matrix:\n",
            "               precision    recall  f1-score   support\n",
            "\n",
            "         0.0       0.97      0.90      0.93       852\n",
            "         1.0       0.90      0.97      0.94       839\n",
            "\n",
            "    accuracy                           0.93      1691\n",
            "   macro avg       0.94      0.93      0.93      1691\n",
            "weighted avg       0.94      0.93      0.93      1691\n",
            "\n"
          ]
        }
      ]
    },
    {
      "cell_type": "markdown",
      "source": [
        "B. Tune parameters for each of the models wherever required and finalize a model."
      ],
      "metadata": {
        "id": "h5mtejl-KBC_"
      },
      "id": "h5mtejl-KBC_"
    },
    {
      "cell_type": "code",
      "source": [
        "# K - Nearest Neighbors\n",
        "\n",
        "# Import library of KNeighborsClassifier model\n",
        "from sklearn.neighbors import KNeighborsClassifier\n",
        "\n",
        "# Create a KNN Classifier\n",
        "knn_2 = KNeighborsClassifier()\n",
        "\n",
        "# Hyperparameter Optimization\n",
        "parameters = {'n_neighbors': [5,10,20,30],\n",
        "              'weights': ['uniform', 'distance'],\n",
        "              'metric' : ['minkowski','euclidean','manhattan']}\n",
        "\n",
        "# Run the grid search\n",
        "from sklearn.model_selection import GridSearchCV\n",
        "grid_obj = GridSearchCV(knn_2, parameters)\n",
        "grid_obj = grid_obj.fit(X_train, y_train)\n",
        "\n",
        "# Set the knn to the best combination of parameters\n",
        "knn_2 = grid_obj.best_estimator_\n",
        "\n",
        "# Train the model using the training sets\n",
        "knn_2.fit(X_train,y_train)"
      ],
      "metadata": {
        "colab": {
          "base_uri": "https://localhost:8080/",
          "height": 75
        },
        "id": "ShVTorx_J70w",
        "outputId": "e05fe288-0495-4948-e0e8-f3eadc864d32"
      },
      "id": "ShVTorx_J70w",
      "execution_count": 53,
      "outputs": [
        {
          "output_type": "execute_result",
          "data": {
            "text/plain": [
              "KNeighborsClassifier(metric='manhattan', weights='distance')"
            ],
            "text/html": [
              "<style>#sk-container-id-1 {color: black;background-color: white;}#sk-container-id-1 pre{padding: 0;}#sk-container-id-1 div.sk-toggleable {background-color: white;}#sk-container-id-1 label.sk-toggleable__label {cursor: pointer;display: block;width: 100%;margin-bottom: 0;padding: 0.3em;box-sizing: border-box;text-align: center;}#sk-container-id-1 label.sk-toggleable__label-arrow:before {content: \"▸\";float: left;margin-right: 0.25em;color: #696969;}#sk-container-id-1 label.sk-toggleable__label-arrow:hover:before {color: black;}#sk-container-id-1 div.sk-estimator:hover label.sk-toggleable__label-arrow:before {color: black;}#sk-container-id-1 div.sk-toggleable__content {max-height: 0;max-width: 0;overflow: hidden;text-align: left;background-color: #f0f8ff;}#sk-container-id-1 div.sk-toggleable__content pre {margin: 0.2em;color: black;border-radius: 0.25em;background-color: #f0f8ff;}#sk-container-id-1 input.sk-toggleable__control:checked~div.sk-toggleable__content {max-height: 200px;max-width: 100%;overflow: auto;}#sk-container-id-1 input.sk-toggleable__control:checked~label.sk-toggleable__label-arrow:before {content: \"▾\";}#sk-container-id-1 div.sk-estimator input.sk-toggleable__control:checked~label.sk-toggleable__label {background-color: #d4ebff;}#sk-container-id-1 div.sk-label input.sk-toggleable__control:checked~label.sk-toggleable__label {background-color: #d4ebff;}#sk-container-id-1 input.sk-hidden--visually {border: 0;clip: rect(1px 1px 1px 1px);clip: rect(1px, 1px, 1px, 1px);height: 1px;margin: -1px;overflow: hidden;padding: 0;position: absolute;width: 1px;}#sk-container-id-1 div.sk-estimator {font-family: monospace;background-color: #f0f8ff;border: 1px dotted black;border-radius: 0.25em;box-sizing: border-box;margin-bottom: 0.5em;}#sk-container-id-1 div.sk-estimator:hover {background-color: #d4ebff;}#sk-container-id-1 div.sk-parallel-item::after {content: \"\";width: 100%;border-bottom: 1px solid gray;flex-grow: 1;}#sk-container-id-1 div.sk-label:hover label.sk-toggleable__label {background-color: #d4ebff;}#sk-container-id-1 div.sk-serial::before {content: \"\";position: absolute;border-left: 1px solid gray;box-sizing: border-box;top: 0;bottom: 0;left: 50%;z-index: 0;}#sk-container-id-1 div.sk-serial {display: flex;flex-direction: column;align-items: center;background-color: white;padding-right: 0.2em;padding-left: 0.2em;position: relative;}#sk-container-id-1 div.sk-item {position: relative;z-index: 1;}#sk-container-id-1 div.sk-parallel {display: flex;align-items: stretch;justify-content: center;background-color: white;position: relative;}#sk-container-id-1 div.sk-item::before, #sk-container-id-1 div.sk-parallel-item::before {content: \"\";position: absolute;border-left: 1px solid gray;box-sizing: border-box;top: 0;bottom: 0;left: 50%;z-index: -1;}#sk-container-id-1 div.sk-parallel-item {display: flex;flex-direction: column;z-index: 1;position: relative;background-color: white;}#sk-container-id-1 div.sk-parallel-item:first-child::after {align-self: flex-end;width: 50%;}#sk-container-id-1 div.sk-parallel-item:last-child::after {align-self: flex-start;width: 50%;}#sk-container-id-1 div.sk-parallel-item:only-child::after {width: 0;}#sk-container-id-1 div.sk-dashed-wrapped {border: 1px dashed gray;margin: 0 0.4em 0.5em 0.4em;box-sizing: border-box;padding-bottom: 0.4em;background-color: white;}#sk-container-id-1 div.sk-label label {font-family: monospace;font-weight: bold;display: inline-block;line-height: 1.2em;}#sk-container-id-1 div.sk-label-container {text-align: center;}#sk-container-id-1 div.sk-container {/* jupyter's `normalize.less` sets `[hidden] { display: none; }` but bootstrap.min.css set `[hidden] { display: none !important; }` so we also need the `!important` here to be able to override the default hidden behavior on the sphinx rendered scikit-learn.org. See: https://github.com/scikit-learn/scikit-learn/issues/21755 */display: inline-block !important;position: relative;}#sk-container-id-1 div.sk-text-repr-fallback {display: none;}</style><div id=\"sk-container-id-1\" class=\"sk-top-container\"><div class=\"sk-text-repr-fallback\"><pre>KNeighborsClassifier(metric=&#x27;manhattan&#x27;, weights=&#x27;distance&#x27;)</pre><b>In a Jupyter environment, please rerun this cell to show the HTML representation or trust the notebook. <br />On GitHub, the HTML representation is unable to render, please try loading this page with nbviewer.org.</b></div><div class=\"sk-container\" hidden><div class=\"sk-item\"><div class=\"sk-estimator sk-toggleable\"><input class=\"sk-toggleable__control sk-hidden--visually\" id=\"sk-estimator-id-1\" type=\"checkbox\" checked><label for=\"sk-estimator-id-1\" class=\"sk-toggleable__label sk-toggleable__label-arrow\">KNeighborsClassifier</label><div class=\"sk-toggleable__content\"><pre>KNeighborsClassifier(metric=&#x27;manhattan&#x27;, weights=&#x27;distance&#x27;)</pre></div></div></div></div></div>"
            ]
          },
          "metadata": {},
          "execution_count": 53
        }
      ]
    },
    {
      "cell_type": "code",
      "source": [
        "param_grid = {'C': [0.1, 1, 10, 100, 1000],\n",
        "              'gamma': [1, 0.1, 0.01, 0.0001],\n",
        "              'kernel': ['rbf']}\n",
        "\n",
        "grid = GridSearchCV(SVC(), param_grid, refit = True, verbose = 3)\n",
        "\n",
        "# fitting the model for grid search\n",
        "grid.fit(X_train, y_train)"
      ],
      "metadata": {
        "colab": {
          "base_uri": "https://localhost:8080/",
          "height": 1000
        },
        "id": "zM7_ddNqJ758",
        "outputId": "f88e8409-8dc2-44b2-c980-3dba73393002"
      },
      "id": "zM7_ddNqJ758",
      "execution_count": 54,
      "outputs": [
        {
          "output_type": "stream",
          "name": "stdout",
          "text": [
            "Fitting 5 folds for each of 20 candidates, totalling 100 fits\n",
            "[CV 1/5] END ........C=0.1, gamma=1, kernel=rbf;, score=0.938 total time=   3.6s\n",
            "[CV 2/5] END ........C=0.1, gamma=1, kernel=rbf;, score=0.854 total time=   2.6s\n",
            "[CV 3/5] END ........C=0.1, gamma=1, kernel=rbf;, score=0.864 total time=   1.2s\n",
            "[CV 4/5] END ........C=0.1, gamma=1, kernel=rbf;, score=0.918 total time=   1.1s\n",
            "[CV 5/5] END ........C=0.1, gamma=1, kernel=rbf;, score=0.902 total time=   1.1s\n",
            "[CV 1/5] END ......C=0.1, gamma=0.1, kernel=rbf;, score=0.895 total time=   0.8s\n",
            "[CV 2/5] END ......C=0.1, gamma=0.1, kernel=rbf;, score=0.900 total time=   0.7s\n",
            "[CV 3/5] END ......C=0.1, gamma=0.1, kernel=rbf;, score=0.897 total time=   0.7s\n",
            "[CV 4/5] END ......C=0.1, gamma=0.1, kernel=rbf;, score=0.905 total time=   0.8s\n",
            "[CV 5/5] END ......C=0.1, gamma=0.1, kernel=rbf;, score=0.906 total time=   0.8s\n",
            "[CV 1/5] END .....C=0.1, gamma=0.01, kernel=rbf;, score=0.876 total time=   0.4s\n",
            "[CV 2/5] END .....C=0.1, gamma=0.01, kernel=rbf;, score=0.886 total time=   0.4s\n",
            "[CV 3/5] END .....C=0.1, gamma=0.01, kernel=rbf;, score=0.873 total time=   0.4s\n",
            "[CV 4/5] END .....C=0.1, gamma=0.01, kernel=rbf;, score=0.885 total time=   0.5s\n",
            "[CV 5/5] END .....C=0.1, gamma=0.01, kernel=rbf;, score=0.884 total time=   0.7s\n",
            "[CV 1/5] END ...C=0.1, gamma=0.0001, kernel=rbf;, score=0.890 total time=   0.6s\n",
            "[CV 2/5] END ...C=0.1, gamma=0.0001, kernel=rbf;, score=0.887 total time=   0.6s\n",
            "[CV 3/5] END ...C=0.1, gamma=0.0001, kernel=rbf;, score=0.878 total time=   0.6s\n",
            "[CV 4/5] END ...C=0.1, gamma=0.0001, kernel=rbf;, score=0.889 total time=   0.6s\n",
            "[CV 5/5] END ...C=0.1, gamma=0.0001, kernel=rbf;, score=0.893 total time=   0.6s\n",
            "[CV 1/5] END ..........C=1, gamma=1, kernel=rbf;, score=0.936 total time=   1.5s\n",
            "[CV 2/5] END ..........C=1, gamma=1, kernel=rbf;, score=0.944 total time=   1.4s\n",
            "[CV 3/5] END ..........C=1, gamma=1, kernel=rbf;, score=0.938 total time=   2.4s\n",
            "[CV 4/5] END ..........C=1, gamma=1, kernel=rbf;, score=0.945 total time=   2.3s\n",
            "[CV 5/5] END ..........C=1, gamma=1, kernel=rbf;, score=0.947 total time=   1.4s\n",
            "[CV 1/5] END ........C=1, gamma=0.1, kernel=rbf;, score=0.937 total time=   0.6s\n",
            "[CV 2/5] END ........C=1, gamma=0.1, kernel=rbf;, score=0.943 total time=   0.6s\n",
            "[CV 3/5] END ........C=1, gamma=0.1, kernel=rbf;, score=0.941 total time=   0.7s\n",
            "[CV 4/5] END ........C=1, gamma=0.1, kernel=rbf;, score=0.951 total time=   0.9s\n",
            "[CV 5/5] END ........C=1, gamma=0.1, kernel=rbf;, score=0.952 total time=   0.9s\n",
            "[CV 1/5] END .......C=1, gamma=0.01, kernel=rbf;, score=0.914 total time=   0.6s\n",
            "[CV 2/5] END .......C=1, gamma=0.01, kernel=rbf;, score=0.908 total time=   0.6s\n",
            "[CV 3/5] END .......C=1, gamma=0.01, kernel=rbf;, score=0.925 total time=   0.7s\n",
            "[CV 4/5] END .......C=1, gamma=0.01, kernel=rbf;, score=0.917 total time=   0.6s\n",
            "[CV 5/5] END .......C=1, gamma=0.01, kernel=rbf;, score=0.924 total time=   0.5s\n",
            "[CV 1/5] END .....C=1, gamma=0.0001, kernel=rbf;, score=0.891 total time=   0.5s\n",
            "[CV 2/5] END .....C=1, gamma=0.0001, kernel=rbf;, score=0.891 total time=   0.6s\n",
            "[CV 3/5] END .....C=1, gamma=0.0001, kernel=rbf;, score=0.885 total time=   0.5s\n",
            "[CV 4/5] END .....C=1, gamma=0.0001, kernel=rbf;, score=0.890 total time=   0.6s\n",
            "[CV 5/5] END .....C=1, gamma=0.0001, kernel=rbf;, score=0.893 total time=   0.5s\n",
            "[CV 1/5] END .........C=10, gamma=1, kernel=rbf;, score=0.937 total time=   2.0s\n",
            "[CV 2/5] END .........C=10, gamma=1, kernel=rbf;, score=0.946 total time=   1.3s\n",
            "[CV 3/5] END .........C=10, gamma=1, kernel=rbf;, score=0.940 total time=   1.3s\n",
            "[CV 4/5] END .........C=10, gamma=1, kernel=rbf;, score=0.948 total time=   1.4s\n",
            "[CV 5/5] END .........C=10, gamma=1, kernel=rbf;, score=0.947 total time=   2.3s\n",
            "[CV 1/5] END .......C=10, gamma=0.1, kernel=rbf;, score=0.954 total time=   0.9s\n",
            "[CV 2/5] END .......C=10, gamma=0.1, kernel=rbf;, score=0.958 total time=   0.9s\n",
            "[CV 3/5] END .......C=10, gamma=0.1, kernel=rbf;, score=0.955 total time=   0.5s\n",
            "[CV 4/5] END .......C=10, gamma=0.1, kernel=rbf;, score=0.967 total time=   0.5s\n",
            "[CV 5/5] END .......C=10, gamma=0.1, kernel=rbf;, score=0.968 total time=   0.5s\n",
            "[CV 1/5] END ......C=10, gamma=0.01, kernel=rbf;, score=0.949 total time=   0.3s\n",
            "[CV 2/5] END ......C=10, gamma=0.01, kernel=rbf;, score=0.948 total time=   0.4s\n",
            "[CV 3/5] END ......C=10, gamma=0.01, kernel=rbf;, score=0.958 total time=   0.6s\n",
            "[CV 4/5] END ......C=10, gamma=0.01, kernel=rbf;, score=0.959 total time=   0.5s\n",
            "[CV 5/5] END ......C=10, gamma=0.01, kernel=rbf;, score=0.952 total time=   0.6s\n",
            "[CV 1/5] END ....C=10, gamma=0.0001, kernel=rbf;, score=0.896 total time=   0.5s\n",
            "[CV 2/5] END ....C=10, gamma=0.0001, kernel=rbf;, score=0.896 total time=   0.5s\n",
            "[CV 3/5] END ....C=10, gamma=0.0001, kernel=rbf;, score=0.897 total time=   0.5s\n",
            "[CV 4/5] END ....C=10, gamma=0.0001, kernel=rbf;, score=0.894 total time=   0.6s\n",
            "[CV 5/5] END ....C=10, gamma=0.0001, kernel=rbf;, score=0.900 total time=   0.5s\n",
            "[CV 1/5] END ........C=100, gamma=1, kernel=rbf;, score=0.937 total time=   1.4s\n",
            "[CV 2/5] END ........C=100, gamma=1, kernel=rbf;, score=0.947 total time=   1.3s\n",
            "[CV 3/5] END ........C=100, gamma=1, kernel=rbf;, score=0.939 total time=   1.8s\n",
            "[CV 4/5] END ........C=100, gamma=1, kernel=rbf;, score=0.949 total time=   3.3s\n",
            "[CV 5/5] END ........C=100, gamma=1, kernel=rbf;, score=0.949 total time=   2.9s\n",
            "[CV 1/5] END ......C=100, gamma=0.1, kernel=rbf;, score=0.956 total time=   1.0s\n",
            "[CV 2/5] END ......C=100, gamma=0.1, kernel=rbf;, score=0.957 total time=   0.7s\n",
            "[CV 3/5] END ......C=100, gamma=0.1, kernel=rbf;, score=0.957 total time=   0.6s\n",
            "[CV 4/5] END ......C=100, gamma=0.1, kernel=rbf;, score=0.968 total time=   0.6s\n",
            "[CV 5/5] END ......C=100, gamma=0.1, kernel=rbf;, score=0.967 total time=   0.5s\n",
            "[CV 1/5] END .....C=100, gamma=0.01, kernel=rbf;, score=0.958 total time=   0.4s\n",
            "[CV 2/5] END .....C=100, gamma=0.01, kernel=rbf;, score=0.960 total time=   0.5s\n",
            "[CV 3/5] END .....C=100, gamma=0.01, kernel=rbf;, score=0.966 total time=   0.4s\n",
            "[CV 4/5] END .....C=100, gamma=0.01, kernel=rbf;, score=0.968 total time=   0.4s\n",
            "[CV 5/5] END .....C=100, gamma=0.01, kernel=rbf;, score=0.964 total time=   0.5s\n",
            "[CV 1/5] END ...C=100, gamma=0.0001, kernel=rbf;, score=0.934 total time=   0.3s\n",
            "[CV 2/5] END ...C=100, gamma=0.0001, kernel=rbf;, score=0.938 total time=   0.3s\n",
            "[CV 3/5] END ...C=100, gamma=0.0001, kernel=rbf;, score=0.943 total time=   0.3s\n",
            "[CV 4/5] END ...C=100, gamma=0.0001, kernel=rbf;, score=0.945 total time=   0.4s\n",
            "[CV 5/5] END ...C=100, gamma=0.0001, kernel=rbf;, score=0.946 total time=   0.5s\n",
            "[CV 1/5] END .......C=1000, gamma=1, kernel=rbf;, score=0.937 total time=   3.7s\n",
            "[CV 2/5] END .......C=1000, gamma=1, kernel=rbf;, score=0.946 total time=   2.4s\n",
            "[CV 3/5] END .......C=1000, gamma=1, kernel=rbf;, score=0.937 total time=   1.8s\n",
            "[CV 4/5] END .......C=1000, gamma=1, kernel=rbf;, score=0.951 total time=   1.3s\n",
            "[CV 5/5] END .......C=1000, gamma=1, kernel=rbf;, score=0.949 total time=   2.2s\n",
            "[CV 1/5] END .....C=1000, gamma=0.1, kernel=rbf;, score=0.955 total time=   1.0s\n",
            "[CV 2/5] END .....C=1000, gamma=0.1, kernel=rbf;, score=0.963 total time=   1.1s\n",
            "[CV 3/5] END .....C=1000, gamma=0.1, kernel=rbf;, score=0.959 total time=   1.6s\n",
            "[CV 4/5] END .....C=1000, gamma=0.1, kernel=rbf;, score=0.964 total time=   2.0s\n",
            "[CV 5/5] END .....C=1000, gamma=0.1, kernel=rbf;, score=0.961 total time=   1.6s\n",
            "[CV 1/5] END ....C=1000, gamma=0.01, kernel=rbf;, score=0.963 total time=   0.5s\n",
            "[CV 2/5] END ....C=1000, gamma=0.01, kernel=rbf;, score=0.960 total time=   0.4s\n",
            "[CV 3/5] END ....C=1000, gamma=0.01, kernel=rbf;, score=0.971 total time=   0.5s\n",
            "[CV 4/5] END ....C=1000, gamma=0.01, kernel=rbf;, score=0.971 total time=   0.5s\n",
            "[CV 5/5] END ....C=1000, gamma=0.01, kernel=rbf;, score=0.967 total time=   0.5s\n",
            "[CV 1/5] END ..C=1000, gamma=0.0001, kernel=rbf;, score=0.967 total time=   0.4s\n",
            "[CV 2/5] END ..C=1000, gamma=0.0001, kernel=rbf;, score=0.958 total time=   0.4s\n",
            "[CV 3/5] END ..C=1000, gamma=0.0001, kernel=rbf;, score=0.967 total time=   0.4s\n",
            "[CV 4/5] END ..C=1000, gamma=0.0001, kernel=rbf;, score=0.962 total time=   0.4s\n",
            "[CV 5/5] END ..C=1000, gamma=0.0001, kernel=rbf;, score=0.958 total time=   0.4s\n"
          ]
        },
        {
          "output_type": "execute_result",
          "data": {
            "text/plain": [
              "GridSearchCV(estimator=SVC(),\n",
              "             param_grid={'C': [0.1, 1, 10, 100, 1000],\n",
              "                         'gamma': [1, 0.1, 0.01, 0.0001], 'kernel': ['rbf']},\n",
              "             verbose=3)"
            ],
            "text/html": [
              "<style>#sk-container-id-2 {color: black;background-color: white;}#sk-container-id-2 pre{padding: 0;}#sk-container-id-2 div.sk-toggleable {background-color: white;}#sk-container-id-2 label.sk-toggleable__label {cursor: pointer;display: block;width: 100%;margin-bottom: 0;padding: 0.3em;box-sizing: border-box;text-align: center;}#sk-container-id-2 label.sk-toggleable__label-arrow:before {content: \"▸\";float: left;margin-right: 0.25em;color: #696969;}#sk-container-id-2 label.sk-toggleable__label-arrow:hover:before {color: black;}#sk-container-id-2 div.sk-estimator:hover label.sk-toggleable__label-arrow:before {color: black;}#sk-container-id-2 div.sk-toggleable__content {max-height: 0;max-width: 0;overflow: hidden;text-align: left;background-color: #f0f8ff;}#sk-container-id-2 div.sk-toggleable__content pre {margin: 0.2em;color: black;border-radius: 0.25em;background-color: #f0f8ff;}#sk-container-id-2 input.sk-toggleable__control:checked~div.sk-toggleable__content {max-height: 200px;max-width: 100%;overflow: auto;}#sk-container-id-2 input.sk-toggleable__control:checked~label.sk-toggleable__label-arrow:before {content: \"▾\";}#sk-container-id-2 div.sk-estimator input.sk-toggleable__control:checked~label.sk-toggleable__label {background-color: #d4ebff;}#sk-container-id-2 div.sk-label input.sk-toggleable__control:checked~label.sk-toggleable__label {background-color: #d4ebff;}#sk-container-id-2 input.sk-hidden--visually {border: 0;clip: rect(1px 1px 1px 1px);clip: rect(1px, 1px, 1px, 1px);height: 1px;margin: -1px;overflow: hidden;padding: 0;position: absolute;width: 1px;}#sk-container-id-2 div.sk-estimator {font-family: monospace;background-color: #f0f8ff;border: 1px dotted black;border-radius: 0.25em;box-sizing: border-box;margin-bottom: 0.5em;}#sk-container-id-2 div.sk-estimator:hover {background-color: #d4ebff;}#sk-container-id-2 div.sk-parallel-item::after {content: \"\";width: 100%;border-bottom: 1px solid gray;flex-grow: 1;}#sk-container-id-2 div.sk-label:hover label.sk-toggleable__label {background-color: #d4ebff;}#sk-container-id-2 div.sk-serial::before {content: \"\";position: absolute;border-left: 1px solid gray;box-sizing: border-box;top: 0;bottom: 0;left: 50%;z-index: 0;}#sk-container-id-2 div.sk-serial {display: flex;flex-direction: column;align-items: center;background-color: white;padding-right: 0.2em;padding-left: 0.2em;position: relative;}#sk-container-id-2 div.sk-item {position: relative;z-index: 1;}#sk-container-id-2 div.sk-parallel {display: flex;align-items: stretch;justify-content: center;background-color: white;position: relative;}#sk-container-id-2 div.sk-item::before, #sk-container-id-2 div.sk-parallel-item::before {content: \"\";position: absolute;border-left: 1px solid gray;box-sizing: border-box;top: 0;bottom: 0;left: 50%;z-index: -1;}#sk-container-id-2 div.sk-parallel-item {display: flex;flex-direction: column;z-index: 1;position: relative;background-color: white;}#sk-container-id-2 div.sk-parallel-item:first-child::after {align-self: flex-end;width: 50%;}#sk-container-id-2 div.sk-parallel-item:last-child::after {align-self: flex-start;width: 50%;}#sk-container-id-2 div.sk-parallel-item:only-child::after {width: 0;}#sk-container-id-2 div.sk-dashed-wrapped {border: 1px dashed gray;margin: 0 0.4em 0.5em 0.4em;box-sizing: border-box;padding-bottom: 0.4em;background-color: white;}#sk-container-id-2 div.sk-label label {font-family: monospace;font-weight: bold;display: inline-block;line-height: 1.2em;}#sk-container-id-2 div.sk-label-container {text-align: center;}#sk-container-id-2 div.sk-container {/* jupyter's `normalize.less` sets `[hidden] { display: none; }` but bootstrap.min.css set `[hidden] { display: none !important; }` so we also need the `!important` here to be able to override the default hidden behavior on the sphinx rendered scikit-learn.org. See: https://github.com/scikit-learn/scikit-learn/issues/21755 */display: inline-block !important;position: relative;}#sk-container-id-2 div.sk-text-repr-fallback {display: none;}</style><div id=\"sk-container-id-2\" class=\"sk-top-container\"><div class=\"sk-text-repr-fallback\"><pre>GridSearchCV(estimator=SVC(),\n",
              "             param_grid={&#x27;C&#x27;: [0.1, 1, 10, 100, 1000],\n",
              "                         &#x27;gamma&#x27;: [1, 0.1, 0.01, 0.0001], &#x27;kernel&#x27;: [&#x27;rbf&#x27;]},\n",
              "             verbose=3)</pre><b>In a Jupyter environment, please rerun this cell to show the HTML representation or trust the notebook. <br />On GitHub, the HTML representation is unable to render, please try loading this page with nbviewer.org.</b></div><div class=\"sk-container\" hidden><div class=\"sk-item sk-dashed-wrapped\"><div class=\"sk-label-container\"><div class=\"sk-label sk-toggleable\"><input class=\"sk-toggleable__control sk-hidden--visually\" id=\"sk-estimator-id-2\" type=\"checkbox\" ><label for=\"sk-estimator-id-2\" class=\"sk-toggleable__label sk-toggleable__label-arrow\">GridSearchCV</label><div class=\"sk-toggleable__content\"><pre>GridSearchCV(estimator=SVC(),\n",
              "             param_grid={&#x27;C&#x27;: [0.1, 1, 10, 100, 1000],\n",
              "                         &#x27;gamma&#x27;: [1, 0.1, 0.01, 0.0001], &#x27;kernel&#x27;: [&#x27;rbf&#x27;]},\n",
              "             verbose=3)</pre></div></div></div><div class=\"sk-parallel\"><div class=\"sk-parallel-item\"><div class=\"sk-item\"><div class=\"sk-label-container\"><div class=\"sk-label sk-toggleable\"><input class=\"sk-toggleable__control sk-hidden--visually\" id=\"sk-estimator-id-3\" type=\"checkbox\" ><label for=\"sk-estimator-id-3\" class=\"sk-toggleable__label sk-toggleable__label-arrow\">estimator: SVC</label><div class=\"sk-toggleable__content\"><pre>SVC()</pre></div></div></div><div class=\"sk-serial\"><div class=\"sk-item\"><div class=\"sk-estimator sk-toggleable\"><input class=\"sk-toggleable__control sk-hidden--visually\" id=\"sk-estimator-id-4\" type=\"checkbox\" ><label for=\"sk-estimator-id-4\" class=\"sk-toggleable__label sk-toggleable__label-arrow\">SVC</label><div class=\"sk-toggleable__content\"><pre>SVC()</pre></div></div></div></div></div></div></div></div></div></div>"
            ]
          },
          "metadata": {},
          "execution_count": 54
        }
      ]
    },
    {
      "cell_type": "code",
      "source": [
        "# print best parameter after tuning\n",
        "print(grid.best_params_)\n",
        "\n",
        "# print how our model looks after hyper-parameter tuning\n",
        "print(grid.best_estimator_)"
      ],
      "metadata": {
        "colab": {
          "base_uri": "https://localhost:8080/"
        },
        "id": "gZrv8EDpJ78i",
        "outputId": "7ea7c37f-8f62-426e-cbcc-7ba1b4d3fe29"
      },
      "id": "gZrv8EDpJ78i",
      "execution_count": 55,
      "outputs": [
        {
          "output_type": "stream",
          "name": "stdout",
          "text": [
            "{'C': 1000, 'gamma': 0.01, 'kernel': 'rbf'}\n",
            "SVC(C=1000, gamma=0.01)\n"
          ]
        }
      ]
    },
    {
      "cell_type": "markdown",
      "source": [
        "C. Print evaluation metrics for final model."
      ],
      "metadata": {
        "id": "raZeSI-YKRNP"
      },
      "id": "raZeSI-YKRNP"
    },
    {
      "cell_type": "code",
      "source": [
        "from sklearn import metrics\n",
        "y_pred = knn_2.predict(X_test)\n",
        "# Calculating the accuracy\n",
        "acc_knn_2 = round( metrics.accuracy_score(y_test, y_pred) * 100, 2 )\n",
        "print( 'Accuracy of KNN model : ', acc_knn_2 )"
      ],
      "metadata": {
        "colab": {
          "base_uri": "https://localhost:8080/"
        },
        "id": "BFGyenBtJ7_D",
        "outputId": "f063421a-1503-4d66-ae4d-6fc796bfb77a"
      },
      "id": "BFGyenBtJ7_D",
      "execution_count": 56,
      "outputs": [
        {
          "output_type": "stream",
          "name": "stdout",
          "text": [
            "Accuracy of KNN model :  95.56\n"
          ]
        }
      ]
    },
    {
      "cell_type": "code",
      "source": [
        "grid_predictions = grid.predict(X_test)\n",
        "\n",
        "# print classification report\n",
        "print(classification_report(y_test, grid_predictions))"
      ],
      "metadata": {
        "colab": {
          "base_uri": "https://localhost:8080/"
        },
        "id": "oHnpBe6sJ8Bs",
        "outputId": "4a96ca6d-35eb-4515-f7a0-2158001f80b4"
      },
      "id": "oHnpBe6sJ8Bs",
      "execution_count": 57,
      "outputs": [
        {
          "output_type": "stream",
          "name": "stdout",
          "text": [
            "              precision    recall  f1-score   support\n",
            "\n",
            "         0.0       0.97      0.97      0.97       852\n",
            "         1.0       0.97      0.97      0.97       839\n",
            "\n",
            "    accuracy                           0.97      1691\n",
            "   macro avg       0.97      0.97      0.97      1691\n",
            "weighted avg       0.97      0.97      0.97      1691\n",
            "\n"
          ]
        }
      ]
    },
    {
      "cell_type": "markdown",
      "source": [
        "D. Share improvement achieved from base model to final model.\n",
        "\n",
        "After hyperparameter tuning, we observe that the accuracy has increased from 93% to 95% using KNN algorithm with metric='manhattan', weights='distance' parameters.\n",
        "We see that the hyperparameter tuning has improved accuracy from 88% to 97% using SVC algorithm\n",
        "We are selecting final model as KNN as it performs well in training and testing test. It is also has good recall value after hyperparameter tuning. Sampling improved to predict minority classes as well Data should be collected equally for all the classes. Few customers does't have credit card but those customer having loan on card. This data error can be avoided"
      ],
      "metadata": {
        "id": "APTt94kpKa5C"
      },
      "id": "APTt94kpKa5C"
    }
  ],
  "metadata": {
    "kernelspec": {
      "display_name": "Python 3 (ipykernel)",
      "language": "python",
      "name": "python3"
    },
    "language_info": {
      "codemirror_mode": {
        "name": "ipython",
        "version": 3
      },
      "file_extension": ".py",
      "mimetype": "text/x-python",
      "name": "python",
      "nbconvert_exporter": "python",
      "pygments_lexer": "ipython3",
      "version": "3.10.9"
    },
    "colab": {
      "provenance": []
    }
  },
  "nbformat": 4,
  "nbformat_minor": 5
}